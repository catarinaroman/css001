{
 "cells": [
  {
   "cell_type": "markdown",
   "id": "8b78d1e9",
   "metadata": {
    "nbgrader": {
     "grade": false,
     "grade_id": "cell-3cb1c4a0f8a7764a",
     "locked": true,
     "schema_version": 3,
     "solution": false,
     "task": false
    }
   },
   "source": [
    "# Lab 02: CSS 1\n",
    "\n",
    "Welcome to the second lab of **CSS 1**!\n",
    "\n",
    "In this self-paced lab, you'll get hands-on practice with the following **concepts**:\n",
    "\n",
    "- Defining and using variables.  \n",
    "- Implementing and evaluating **conditional** statements.  \n",
    "- Implementing and evaluating **loops**.\n",
    "\n",
    "You'll also get some practice **debugging** code.\n",
    "\n",
    "### Note on hidden tests\n",
    "\n",
    "Some of the questions in this lab will have **hidden tests**. This means that in addition to the `assert` statements you see in the code, there *hidden* tests. The point of these is to check whether your code **generalizes** to other cases.\n",
    "\n",
    "The lab will notify you when/where there is a hidden test, even if you can't see it.\n",
    "\n",
    "\n",
    "### Guide to CSS 1 Labs\n",
    "\n",
    "Programming can be challenging, whether you're experienced or completely new. But it can also be a lot of fun. If you find yourself overwhelmed or frustrated with a question, remember: we're here to help!\n",
    "\n",
    "- If you're working on this in section, feel free to ask your TA for guidance.  \n",
    "- Labs are also **collaborative**, so you can also ask your fellow classmates. In fact, we encourage it! \n",
    "- If you're stuck, you can also post questions on Piazza."
   ]
  },
  {
   "cell_type": "markdown",
   "id": "6e6e14d5",
   "metadata": {
    "nbgrader": {
     "grade": false,
     "grade_id": "cell-3cb1c4a0f8a7763b",
     "locked": true,
     "schema_version": 3,
     "solution": false,
     "task": false
    }
   },
   "source": [
    "## Part 1: Variables\n",
    "\n",
    "> A **variable** stores a particular value, like a \"container\".\n",
    "\n",
    "Variables can be **declared** using the assignment operator (`=`). Once a variable has been declared, you can reference it using the variable name."
   ]
  },
  {
   "cell_type": "markdown",
   "id": "9498f27c",
   "metadata": {
    "nbgrader": {
     "grade": false,
     "grade_id": "cell-3cb1c4a0f8a7765b",
     "locked": true,
     "schema_version": 3,
     "solution": false,
     "task": false
    }
   },
   "source": [
    "### Declaring variables\n",
    "\n",
    "In this section, you'll get some more practice declaring variables of different types.\n",
    "\n",
    "In the cell below, declare the following variables:\n",
    "\n",
    "- `my_first_bool`: set it equal to either `True` or `False`.  \n",
    "- `my_number`: set it to an `int`, like `2` or `200`. \n",
    "- `my_word`: set it to the `str` `\"css\"`. \n",
    "- `my_none`: set it to `None`. "
   ]
  },
  {
   "cell_type": "code",
   "execution_count": 1,
   "id": "26cf643d",
   "metadata": {
    "nbgrader": {
     "grade": false,
     "grade_id": "cell-f3ef5e43fd512d88",
     "locked": false,
     "schema_version": 3,
     "solution": true,
     "task": false
    }
   },
   "outputs": [],
   "source": [
    "### BEGIN SOLUTION\n",
    
    "### END SOLUTION"
   ]
  },
  {
   "cell_type": "code",
   "execution_count": 2,
   "id": "d04dac73",
   "metadata": {
    "nbgrader": {
     "grade": true,
     "grade_id": "cell-72872bb8d1b558db",
     "locked": true,
     "points": 0.5,
     "schema_version": 3,
     "solution": false,
     "task": false
    }
   },
   "outputs": [],
   "source": [
    "assert my_first_bool == True or my_first_bool == False\n",
    "assert type(my_first_bool) is bool"
   ]
  },
  {
   "cell_type": "code",
   "execution_count": 3,
   "id": "edf55f6b",
   "metadata": {
    "nbgrader": {
     "grade": true,
     "grade_id": "cell-7bccbd3c9853ec6d",
     "locked": true,
     "points": 0.5,
     "schema_version": 3,
     "solution": false,
     "task": false
    }
   },
   "outputs": [],
   "source": [
    "assert type(my_number) is int"
   ]
  },
  {
   "cell_type": "code",
   "execution_count": 4,
   "id": "a7d70575",
   "metadata": {
    "nbgrader": {
     "grade": true,
     "grade_id": "cell-ddde4e69be5e663b",
     "locked": true,
     "points": 0.5,
     "schema_version": 3,
     "solution": false,
     "task": false
    }
   },
   "outputs": [],
   "source": [
    "assert my_word == \"css\"\n",
    "assert type(my_word) is str"
   ]
  },
  {
   "cell_type": "code",
   "execution_count": 5,
   "id": "12ccb3da",
   "metadata": {
    "nbgrader": {
     "grade": true,
     "grade_id": "cell-2be573e002c4a85b",
     "locked": true,
     "points": 0.5,
     "schema_version": 3,
     "solution": false,
     "task": false
    }
   },
   "outputs": [],
   "source": [
    "assert my_none is None"
   ]
  },
  {
   "cell_type": "markdown",
   "id": "70f029c2",
   "metadata": {
    "nbgrader": {
     "grade": false,
     "grade_id": "cell-93aac62da89b41cb",
     "locked": true,
     "schema_version": 3,
     "solution": false,
     "task": false
    }
   },
   "source": [
    "### Operating with variables\n",
    "\n",
    "In this section, you'll get hands-on practice **using** variables in some basic operations."
   ]
  },
  {
   "cell_type": "markdown",
   "id": "af910c3d",
   "metadata": {
    "nbgrader": {
     "grade": false,
     "grade_id": "cell-e88ea7a9caae1a45",
     "locked": true,
     "schema_version": 3,
     "solution": false,
     "task": false
    }
   },
   "source": [
    "The cell below has defined two variables, `x1` and `x2`. \n",
    "\n",
    "Create a new variable called `x3`, which is equal to the *sum* of these variables. "
   ]
  },
  {
   "cell_type": "code",
   "execution_count": 6,
   "id": "b9627508",
   "metadata": {
    "nbgrader": {
     "grade": false,
     "grade_id": "cell-ce589bce2a536147",
     "locked": true,
     "schema_version": 3,
     "solution": false,
     "task": false
    }
   },
   "outputs": [],
   "source": [
    "x1 = 5\n",
    "x2 = 2"
   ]
  },
  {
   "cell_type": "code",
   "execution_count": 7,
   "id": "7751f124",
   "metadata": {
    "nbgrader": {
     "grade": false,
     "grade_id": "cell-21b2aa4fc6110b5a",
     "locked": false,
     "schema_version": 3,
     "solution": true,
     "task": false
    }
   },
   "outputs": [],
   "source": [
    "### BEGIN SOLUTION\n",

    "### END SOLUTION"
   ]
  },
  {
   "cell_type": "markdown",
   "id": "81a13670",
   "metadata": {
    "nbgrader": {
     "grade": false,
     "grade_id": "cell-9bd1e8f7d2ff626c",
     "locked": true,
     "schema_version": 3,
     "solution": false,
     "task": false
    }
   },
   "source": [
    "The cell below has at least one hidden test."
   ]
  },
  {
   "cell_type": "code",
   "execution_count": 8,
   "id": "4d0991d7",
   "metadata": {
    "nbgrader": {
     "grade": true,
     "grade_id": "cell-17c865a083c5c38e",
     "locked": true,
     "points": 1,
     "schema_version": 3,
     "solution": false,
     "task": false
    }
   },
   "outputs": [],
   "source": [
    "## Includes Hidden Test\n",
    "assert type(x3) is int\n",
    "### BEGIN HIDDEN TESTS\n",
    "assert x3 == 7\n",
    "### END HIDDEN TESTS"
   ]
  },
  {
   "cell_type": "markdown",
   "id": "42bf5d84",
   "metadata": {
    "nbgrader": {
     "grade": false,
     "grade_id": "cell-f9932dc49deda539",
     "locked": true,
     "schema_version": 3,
     "solution": false,
     "task": false
    }
   },
   "source": [
    "Create a new variable called `x5`, which is equal to the *product* of `x1` and `x2`."
   ]
  },
  {
   "cell_type": "code",
   "execution_count": 9,
   "id": "db7c63a2",
   "metadata": {
    "nbgrader": {
     "grade": false,
     "grade_id": "cell-68c57ef6a6521a9e",
     "locked": false,
     "schema_version": 3,
     "solution": true,
     "task": false
    }
   },
   "outputs": [],
   "source": [
    "### BEGIN SOLUTION\n",
    
    "### END SOLUTION"
   ]
  },
  {
   "cell_type": "code",
   "execution_count": 10,
   "id": "f3af2f2e",
   "metadata": {
    "nbgrader": {
     "grade": true,
     "grade_id": "cell-38f2f04dcaa41bee",
     "locked": true,
     "points": 1,
     "schema_version": 3,
     "solution": false,
     "task": false
    }
   },
   "outputs": [],
   "source": [
    "assert x5 == 10"
   ]
  },
  {
   "cell_type": "markdown",
   "id": "b2141d99",
   "metadata": {
    "nbgrader": {
     "grade": false,
     "grade_id": "cell-e88ea7a9caae1a10",
     "locked": true,
     "schema_version": 3,
     "solution": false,
     "task": false
    }
   },
   "source": [
    "The cell below has another new variable, called `x4`.\n",
    "\n",
    "Now create another new variable called `comp1`. Set this variable equal to a `bool` value reflecting whether `x4` is larger than `x3`. \n",
    "\n",
    "**Hint**: Use the `>` operator; the value should be `True` if `x4` is larger, and `False` if `x4` is smaller."
   ]
  },
  {
   "cell_type": "code",
   "execution_count": 11,
   "id": "c5af7e3a",
   "metadata": {
    "nbgrader": {
     "grade": false,
     "grade_id": "cell-dcc7b413cc4b9679",
     "locked": true,
     "schema_version": 3,
     "solution": false,
     "task": false
    }
   },
   "outputs": [],
   "source": [
    "x4 = 100"
   ]
  },
  {
   "cell_type": "code",
   "execution_count": 12,
   "id": "5811d900",
   "metadata": {
    "nbgrader": {
     "grade": false,
     "grade_id": "cell-aafd6e67b8054ae9",
     "locked": false,
     "schema_version": 3,
     "solution": true,
     "task": false
    }
   },
   "outputs": [],
   "source": [
    "### BEGIN SOLUTION\n",
    "comp1 = x4 > x3\n",
    "### END SOLUTION"
   ]
  },
  {
   "cell_type": "markdown",
   "id": "bec0b219",
   "metadata": {
    "nbgrader": {
     "grade": false,
     "grade_id": "cell-9f9a1529c7634222",
     "locked": true,
     "schema_version": 3,
     "solution": false,
     "task": false
    }
   },
   "source": [
    "The cell below has at least one hidden test."
   ]
  },
  {
   "cell_type": "code",
   "execution_count": 13,
   "id": "912d782b",
   "metadata": {
    "nbgrader": {
     "grade": true,
     "grade_id": "cell-e79121830ea40e91",
     "locked": true,
     "points": 1,
     "schema_version": 3,
     "solution": false,
     "task": false
    }
   },
   "outputs": [],
   "source": [
    "## Includes Hidden Test\n",
    "assert type(comp1) is bool\n",
    "### BEGIN HIDDEN TESTS\n",
    "assert comp1 == True\n",
    "### END HIDDEN TESTS"
   ]
  },
  {
   "cell_type": "markdown",
   "id": "6b61d28a",
   "metadata": {
    "nbgrader": {
     "grade": false,
     "grade_id": "cell-4ccb324a3f4410a6",
     "locked": true,
     "schema_version": 3,
     "solution": false,
     "task": false
    }
   },
   "source": [
    "Now let's try a more complex comparison. Is `x4` larger than the product of `x1`, `x2`, and `x3`? Set the result of this comparison to `comp2`. \n",
    "\n",
    "**Hint**: Use the `>` operator; the value should be `True` if `x4` is larger, and `False` if `x4` is smaller."
   ]
  },
  {
   "cell_type": "code",
   "execution_count": 24,
   "id": "7bae1cbb",
   "metadata": {
    "nbgrader": {
     "grade": false,
     "grade_id": "cell-43c9b874561e1ab8",
     "locked": false,
     "schema_version": 3,
     "solution": true,
     "task": false
    }
   },
   "outputs": [],
   "source": [
    "### BEGIN SOLUTION\n",
    
    "### END SOLUTION"
   ]
  },
  {
   "cell_type": "code",
   "execution_count": 25,
   "id": "52a02272",
   "metadata": {
    "nbgrader": {
     "grade": true,
     "grade_id": "cell-68a6aa62f170d67d",
     "locked": true,
     "points": 1,
     "schema_version": 3,
     "solution": false,
     "task": false
    }
   },
   "outputs": [],
   "source": [
    "assert comp2 == True"
   ]
  },
  {
   "cell_type": "markdown",
   "id": "48b55d55",
   "metadata": {
    "nbgrader": {
     "grade": false,
     "grade_id": "cell-dc7a3148e2b3157d",
     "locked": true,
     "schema_version": 3,
     "solution": false,
     "task": false
    }
   },
   "source": [
    "#### The `%` operator\n",
    "\n",
    "The `%` operator returns the **remainder** of dividing one number by another. For example, `3 % 2` would return `1`.\n",
    "\n",
    "In the cell below, create a variable called `remainder`, which is equal to the remainder of dividing `100` by `12`."
   ]
  },
  {
   "cell_type": "code",
   "execution_count": 26,
   "id": "14e2fc22",
   "metadata": {
    "nbgrader": {
     "grade": false,
     "grade_id": "cell-47b88dc2404ecfe1",
     "locked": false,
     "schema_version": 3,
     "solution": true,
     "task": false
    }
   },
   "outputs": [],
   "source": [
    "### BEGIN SOLUTION\n",
    
    "### END SOLUTION"
   ]
  },
  {
   "cell_type": "code",
   "execution_count": 27,
   "id": "aaf378df",
   "metadata": {
    "nbgrader": {
     "grade": true,
     "grade_id": "cell-bbe6c9f70a0f9e0c",
     "locked": true,
     "points": 1,
     "schema_version": 3,
     "solution": false,
     "task": false
    }
   },
   "outputs": [],
   "source": [
    "assert type(remainder) is int\n",
    "assert remainder == 4"
   ]
  },
  {
   "cell_type": "markdown",
   "id": "978252b9",
   "metadata": {
    "nbgrader": {
     "grade": false,
     "grade_id": "cell-d970366f3ac376de",
     "locked": true,
     "schema_version": 3,
     "solution": false,
     "task": false
    }
   },
   "source": [
    "## Part 2: Conditional Statements\n",
    "\n",
    "A [conditional statement](https://ucsd-css1-introduction.github.io/overview/lectures/05-conditionals.html) is a statement that checks whether some **condition** is `True` or `False`.\n",
    "\n",
    "This allows you to execute a piece of code *depending* on the value of that condition."
   ]
  },
  {
   "cell_type": "markdown",
   "id": "88675b59",
   "metadata": {
    "nbgrader": {
     "grade": false,
     "grade_id": "cell-ed207da6a8502ecf",
     "locked": true,
     "schema_version": 3,
     "solution": false,
     "task": false
    }
   },
   "source": [
    "### Modifying a conditional statement\n",
    "\n",
    "In the cells below, there is a **conditional statement**, which makes various changes to a variable called `x`, depending on the value of `c1` and `c2`.\n",
    "\n",
    "In the cell immediately below, create two **boolean** variables: `c1` and `c2`. Find the correct value (`True` vs. `False`) for each variable in turn, such that when the conditional statement is run, `x == 30`.\n",
    "\n",
    "Note that the code should look something like:\n",
    "\n",
    "```python\n",
    "c1 = bool_value_here\n",
    "c2 = bool_value_here\n",
    "```\n",
    "\n",
    "But with the `bool_value_here` set to either `True` or `False`."
   ]
  },
  {
   "cell_type": "code",
   "execution_count": 28,
   "id": "f76bfdaf",
   "metadata": {
    "nbgrader": {
     "grade": false,
     "grade_id": "cell-c85dfe407c1a73be",
     "locked": false,
     "schema_version": 3,
     "solution": true,
     "task": false
    }
   },
   "outputs": [],
   "source": [
    "### BEGIN SOLUTION\n",
    
    "### END SOLUTION"
   ]
  },
  {
   "cell_type": "code",
   "execution_count": 29,
   "id": "a18ab758",
   "metadata": {
    "nbgrader": {
     "grade": false,
     "grade_id": "cell-ea2bd9e05c69deb2",
     "locked": true,
     "schema_version": 3,
     "solution": false,
     "task": false
    }
   },
   "outputs": [],
   "source": [
    "x = 10\n",
    "if c1 and c2:\n",
    "    x *= 2\n",
    "elif c1 and not c2:\n",
    "    x *= 3\n",
    "elif not c1 and c2:\n",
    "    x *= 4\n",
    "else:\n",
    "    x *= 5"
   ]
  },
  {
   "cell_type": "code",
   "execution_count": 30,
   "id": "243b22a7",
   "metadata": {
    "nbgrader": {
     "grade": true,
     "grade_id": "cell-22bc884050d41370",
     "locked": true,
     "points": 1,
     "schema_version": 3,
     "solution": false,
     "task": false
    }
   },
   "outputs": [],
   "source": [
    "assert type(c1) is bool\n",
    "assert type(c2) is bool\n",
    "assert x == 30"
   ]
  },
  {
   "cell_type": "markdown",
   "id": "0207b426",
   "metadata": {
    "nbgrader": {
     "grade": false,
     "grade_id": "cell-267ac0a414ce24a6",
     "locked": true,
     "schema_version": 3,
     "solution": false,
     "task": false
    }
   },
   "source": [
    "### Evaluating a conditional statement\n",
    "\n",
    "It's also important to get practice learning how to **evaluate** the outcome of running a conditional statement. \n",
    "\n",
    "In the cells below, there is another conditional statement, which will result in a particular value being assigned to the variable `result`.\n",
    "\n",
    "To test whether you can tell what value will be assigned to `result`, create a variable called `predicted_outcome`. The auto-grader will then test whether `predicted_outcome == result`."
   ]
  },
  {
   "cell_type": "code",
   "execution_count": 31,
   "id": "b944b395",
   "metadata": {
    "nbgrader": {
     "grade": false,
     "grade_id": "cell-558a47713e782a17",
     "locked": false,
     "schema_version": 3,
     "solution": true,
     "task": false
    }
   },
   "outputs": [],
   "source": [
    "### BEGIN SOLUTION\n",
    
    "### END SOLUTION"
   ]
  },
  {
   "cell_type": "code",
   "execution_count": 32,
   "id": "b5836c7b",
   "metadata": {
    "nbgrader": {
     "grade": false,
     "grade_id": "cell-4dcb9a8bceec0d79",
     "locked": true,
     "schema_version": 3,
     "solution": false,
     "task": false
    }
   },
   "outputs": [],
   "source": [
    "if 100 % 3 == 0 and 100 % 5 == 0:\n",
    "    result = \"fizzbuzz\"\n",
    "elif 100 % 5 == 0:\n",
    "    result = \"buzz\"\n",
    "elif 100 % 3 == 0:\n",
    "    result = \"fizz\"\n",
    "else:\n",
    "    result = \"nothing\""
   ]
  },
  {
   "cell_type": "code",
   "execution_count": 33,
   "id": "59ca6104",
   "metadata": {
    "nbgrader": {
     "grade": true,
     "grade_id": "cell-f16e09c2e14bb2c4",
     "locked": true,
     "points": 1,
     "schema_version": 3,
     "solution": false,
     "task": false
    }
   },
   "outputs": [],
   "source": [
    "assert predicted_outcome == result"
   ]
  },
  {
   "cell_type": "markdown",
   "id": "57022dea",
   "metadata": {
    "nbgrader": {
     "grade": false,
     "grade_id": "cell-e709e420402ae988",
     "locked": true,
     "schema_version": 3,
     "solution": false,
     "task": false
    }
   },
   "source": [
    "## Part 3: Loops\n",
    "\n",
    "> A [loop](https://ucsd-css1-introduction.github.io/overview/lectures/06-loops.html) is a way to repeat the same piece of code many times.\n",
    "\n",
    "In this section, you'll answer two questions that involve **evaluating** and **assessing** what a loop will do."
   ]
  },
  {
   "cell_type": "markdown",
   "id": "ffb46545",
   "metadata": {
    "nbgrader": {
     "grade": false,
     "grade_id": "cell-2438024a90ba720e",
     "locked": true,
     "schema_version": 3,
     "solution": false,
     "task": false
    }
   },
   "source": [
    "### What will a loop return?\n",
    "\n",
    "The code in the cells below runs a `for` loop over a `list`. The result of running this code will return a certain value for `result_loop`.\n",
    "\n",
    "To test whether you can tell what value will be assigned to `result_loop`, create a variable called `predicted_outcome_loop`. The auto-grader will then test whether `predicted_outcome_loop == result_loop`."
   ]
  },
  {
   "cell_type": "code",
   "execution_count": 36,
   "id": "b2830a32",
   "metadata": {
    "nbgrader": {
     "grade": false,
     "grade_id": "cell-517995be41f14eb0",
     "locked": false,
     "schema_version": 3,
     "solution": true,
     "task": false
    }
   },
   "outputs": [],
   "source": [
    "### BEGIN SOLUTION\n",
    
    "### END SOLUTION"
   ]
  },
  {
   "cell_type": "code",
   "execution_count": 38,
   "id": "6038d771",
   "metadata": {
    "nbgrader": {
     "grade": false,
     "grade_id": "cell-dbe8a66f1bc81956",
     "locked": true,
     "schema_version": 3,
     "solution": false,
     "task": false
    }
   },
   "outputs": [
    {
     "data": {
      "text/plain": [
       "2"
      ]
     },
     "execution_count": 38,
     "metadata": {},
     "output_type": "execute_result"
    }
   ],
   "source": [
    "result_loop = 0\n",
    "for num in [1, 3, 6, 8, 11, 15]:\n",
    "    if num % 2 == 0:\n",
    "        result_loop += 1\n",
    "result_loop"
   ]
  },
  {
   "cell_type": "code",
   "execution_count": 39,
   "id": "4aa1f762",
   "metadata": {
    "nbgrader": {
     "grade": true,
     "grade_id": "cell-d51e513c0bf42398",
     "locked": true,
     "points": 1,
     "schema_version": 3,
     "solution": false,
     "task": false
    }
   },
   "outputs": [],
   "source": [
    "assert predicted_outcome_loop == result_loop"
   ]
  },
  {
   "cell_type": "markdown",
   "id": "c536261b",
   "metadata": {
    "nbgrader": {
     "grade": false,
     "grade_id": "cell-8615eb1ad2516dd4",
     "locked": true,
     "schema_version": 3,
     "solution": false,
     "task": false
    }
   },
   "source": [
    "## Part 4: Submit!\n",
    "\n",
    "Once you've completed all the cells above (saving regularly):\n",
    "\n",
    "- Click \"Validate\". This will run a check to determine whether you've passed all visible tests. \n",
    "- Once you've validated the assignment, you should now have an option to \"Submit\" the assignment (next to where the assignment is stored in your directory). Click this.\n",
    "- This will now show up under your \"Submitted Assignments\" section.\n",
    "\n",
    "If you have any trouble accessing or submitting the assignment, please check in with your TA!"
   ]
  }
 ],
 "metadata": {
  "celltoolbar": "Create Assignment",
  "kernelspec": {
   "display_name": "Python 3 (clean)",
   "language": "python",
   "name": "python3_clean"
  },
  "language_info": {
   "codemirror_mode": {
    "name": "ipython",
    "version": 3
   },
   "file_extension": ".py",
   "mimetype": "text/x-python",
   "name": "python",
   "nbconvert_exporter": "python",
   "pygments_lexer": "ipython3",
   "version": "3.9.5"
  }
 },
 "nbformat": 4,
 "nbformat_minor": 5
}
