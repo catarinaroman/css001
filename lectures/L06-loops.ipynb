{
  "cells": [
    {
      "cell_type": "markdown",
      "source": [
        "# Announcements\n",
        "\n",
        "- Lab 01 due today! Just submit your .ipynb file on Canvas\n",
        "- Problem Set 01 will be online today! It is due in two weeks.\n",
        "- Next week we will go over DataHub; how to get your working files and submit assignments on there.\n",
        "- Forget I ever said anything about Vocareum -- it requires more system integration and we will not get involved with that.\n",
        "\n",
        "- Lecture this coming Monday is on Zoom!\n",
        "- Labs will be in person.\n",
        "\n",
        "\n",
        "- Any questions?\n"
      ],
      "metadata": {
        "id": "fC2SBB8CBY3V"
      },
      "id": "fC2SBB8CBY3V"
    },
    {
      "cell_type": "markdown",
      "id": "798c697e",
      "metadata": {
        "id": "798c697e"
      },
      "source": [
        "# Control Flow: Loops"
      ]
    },
    {
      "cell_type": "markdown",
      "id": "dd3abbc9",
      "metadata": {
        "id": "dd3abbc9"
      },
      "source": [
        "## Goals of this lecture\n",
        "\n",
        "- Control flow, revisited.  \n",
        "- What is a **loop**? What is **iteration**?\n",
        "- `for` loops in action.\n",
        "- `while` loops in Python."
      ]
    },
    {
      "cell_type": "markdown",
      "id": "69418b86",
      "metadata": {
        "id": "69418b86"
      },
      "source": [
        "## Control flow, revisited\n",
        "\n",
        "By default, Python commands are executed in a *linear* order, i.e., line by line.  \n",
        " - Unless we tell Python otherwise, *each line* will be executed once.\n",
        "\n",
        "But sometimes it's useful to **control**:\n",
        "1. Which lines get executed?\n",
        "2. How many times do those lines get executed?  \n",
        "\n",
        "These control \"parameters\" correspond, roughly, to:\n",
        "\n",
        "1. Conditional statements (`if/elif/else`).  \n",
        "2. Loops (e.g., `for` or `while`)."
      ]
    },
    {
      "cell_type": "markdown",
      "id": "d61c36e3",
      "metadata": {
        "id": "d61c36e3"
      },
      "source": [
        "## Loops, explained\n",
        "\n",
        "> A **loop** is a way to repeat the same piece of code multiple times.\n"
      ]
    },
    {
      "cell_type": "markdown",
      "id": "838b115f",
      "metadata": {
        "id": "838b115f"
      },
      "source": [
        "### When should you use a loop?\n",
        "\n",
        "**Rule of thumb**: if you find yourself copying/pasting the same code many different times...you might think about using a loop!  \n",
        "\n",
        "More generally: in programming, we often want to execute the same action *multiple times*.\n",
        "\n",
        "- Apply the same instruction to every item on a `list`.  \n",
        "- Continue running some code until a condition is met.  "
      ]
    },
    {
      "cell_type": "markdown",
      "id": "e8fffb2b",
      "metadata": {
        "id": "e8fffb2b"
      },
      "source": [
        "### A loop is an example of *iteration*\n",
        "\n",
        "> Iteration simply means: repeating some sequence of instructions until a specific end result is achieved.\n",
        "\n",
        "That \"end result\" could be any number of things:\n",
        "\n",
        "- You reach the end of a `list`.  \n",
        "- Some other condition is met.  \n",
        "\n",
        "In general, we'll use the term **iterate** to mean \"do over and over again\".\n",
        "\n",
        "- The expression \"iterate over a list\" means: *Do X to every item of that list*."
      ]
    },
    {
      "cell_type": "markdown",
      "id": "2e21d1f8",
      "metadata": {
        "id": "2e21d1f8"
      },
      "source": [
        "### Two kinds of loops\n",
        "\n",
        "There are two main kinds of loops you'll use in Python: `for` loops and `while` loops.\n",
        "\n",
        "- A `for` loop runs some code for every item of a `list` or sequence.\n",
        "- A `while` loop runs a piece of code until some condition is met (e.g., `while condition == True`).\n",
        "\n",
        "Today, we'll focus on `for` loops."
      ]
    },
    {
      "cell_type": "markdown",
      "id": "5b8f2852",
      "metadata": {
        "id": "5b8f2852"
      },
      "source": [
        "### Side note: lists\n",
        "\n",
        "- We haven't discussed `list` objects in detail yet, but we will introduce them as part of the lecture today.  \n",
        "- High-level:\n",
        "   - A `list` is an ordered collection of elements.  \n",
        "   - Different elements can be accessed by **indexing** through the list."
      ]
    },
    {
      "cell_type": "code",
      "execution_count": null,
      "id": "7b1e11ad",
      "metadata": {
        "id": "7b1e11ad"
      },
      "outputs": [],
      "source": [
        "## This is a list in Python\n",
        "numbers = [1, 2, 3]\n",
        "### This is how we \"index\" particular elements in that list\n",
        "numbers[0]"
      ]
    },
    {
      "cell_type": "markdown",
      "id": "170f9fc1",
      "metadata": {
        "id": "170f9fc1"
      },
      "source": [
        "## `for` loops in action\n",
        "\n",
        "> A `for` loop is used for [iterating over a sequence](https://www.w3schools.com/python/python_for_loops.asp).\n",
        "\n",
        "A `for` loop uses the syntax: `for elem in list_name: ...`"
      ]
    },
    {
      "cell_type": "code",
      "execution_count": null,
      "id": "7b8733b7",
      "metadata": {
        "id": "7b8733b7"
      },
      "outputs": [],
      "source": [
        "## This is a list in Python\n",
        "numbers = [1, 2, 3]\n",
        "### This is a for loop\n",
        "for number in numbers:\n",
        "    print(number)"
      ]
    },
    {
      "cell_type": "markdown",
      "id": "8a4dac63",
      "metadata": {
        "id": "8a4dac63"
      },
      "source": [
        "### Check-in\n",
        "\n",
        "What do you expect the following code block to do, if you executed it?\n",
        "\n",
        "```python\n",
        "for l in \"apple\":\n",
        "    print(l)\n",
        "```"
      ]
    },
    {
      "cell_type": "markdown",
      "id": "0e6da225",
      "metadata": {
        "id": "0e6da225"
      },
      "source": [
        "A `for` loop tells Python to **iterate** over each element in a sequence.\n",
        "\n",
        "The **content** of that loop––the **indented code** underneath the `for` statement––tells Python what to do each time."
      ]
    },
    {
      "cell_type": "code",
      "execution_count": null,
      "id": "d22f7173",
      "metadata": {
        "id": "d22f7173"
      },
      "outputs": [],
      "source": [
        "for l in \"apple\":\n",
        "    print(l)"
      ]
    },
    {
      "cell_type": "markdown",
      "id": "c5fd42de",
      "metadata": {
        "id": "c5fd42de"
      },
      "source": [
        "### Check-in\n",
        "\n",
        "Approximately how many lines of code would we need if we wanted to `print` each element of a `list` with **100 items**, *without* using any kind of loop? (I.e., copy/paste the same code?)"
      ]
    },
    {
      "cell_type": "markdown",
      "id": "cc188acd",
      "metadata": {
        "id": "cc188acd"
      },
      "source": [
        "### Compare and contrast"
      ]
    },
    {
      "cell_type": "code",
      "execution_count": null,
      "id": "382299de",
      "metadata": {
        "id": "382299de"
      },
      "outputs": [],
      "source": [
        "### This code prints each number independently\n",
        "numbers = [1, 2, 3, 4, 5]\n",
        "print(numbers[0])\n",
        "print(numbers[1])\n",
        "print(numbers[2])\n",
        "print(numbers[3])\n",
        "print(numbers[4])"
      ]
    },
    {
      "cell_type": "code",
      "execution_count": null,
      "id": "e5979716",
      "metadata": {
        "id": "e5979716"
      },
      "outputs": [],
      "source": [
        "### This code iterates through the list\n",
        "numbers = [1, 2, 3, 4, 5]\n",
        "for number in numbers:\n",
        "    print(number)"
      ]
    },
    {
      "cell_type": "markdown",
      "id": "39e5c41e",
      "metadata": {
        "id": "39e5c41e"
      },
      "source": [
        "### What can you use a `for` loop on?\n",
        "\n",
        "> You can use a `for` loop on any **sequence**.\n",
        "\n",
        "We'll talk more about sequences next week, but they include:\n",
        "\n",
        "- Lists, e.g., `[1, 2, 10]`.  \n",
        "- Strings, e.g., `\"apple\"`.\n",
        "- Ranges, e.g., `range(10)`\n",
        "\n"
      ]
    },
    {
      "cell_type": "markdown",
      "id": "8415116b",
      "metadata": {
        "id": "8415116b"
      },
      "source": [
        "### Introducing `range`\n",
        "\n",
        "> `range` is an **operator** used to create a range of numbers, e.g., from 0 to 100. It's very useful if your main goal is to execute some code $N$ times.\n",
        "\n",
        "Note that `range(10)` will return an iterable object of 10 numbers from *0* to *9*."
      ]
    },
    {
      "cell_type": "code",
      "execution_count": null,
      "id": "ae010a9a",
      "metadata": {
        "id": "ae010a9a"
      },
      "outputs": [],
      "source": [
        "for i in range(10):\n",
        "    print(i)"
      ]
    },
    {
      "cell_type": "markdown",
      "id": "558f0cd2",
      "metadata": {
        "id": "558f0cd2"
      },
      "source": [
        "If you want to start at a different number (e.g., `3`), you can enter that as an argument as well."
      ]
    },
    {
      "cell_type": "code",
      "execution_count": null,
      "id": "a53039ba",
      "metadata": {
        "id": "a53039ba"
      },
      "outputs": [],
      "source": [
        "for i in range(3, 10):\n",
        "    print(i)"
      ]
    },
    {
      "cell_type": "markdown",
      "id": "88ef57a9",
      "metadata": {
        "id": "88ef57a9"
      },
      "source": [
        "Remember: `range` will produce numbers going all the way up to $N - 1$, *not* $N$."
      ]
    },
    {
      "cell_type": "code",
      "execution_count": null,
      "id": "0eb4f4d5",
      "metadata": {
        "id": "0eb4f4d5"
      },
      "outputs": [],
      "source": [
        "for i in range(5):\n",
        "    print(i)"
      ]
    },
    {
      "cell_type": "markdown",
      "id": "d6dac74f",
      "metadata": {
        "id": "d6dac74f"
      },
      "source": [
        "### Check-in\n",
        "\n",
        "Write a `for` loop that `print`s out every letter in the string `\"CSS\"`."
      ]
    },
    {
      "cell_type": "code",
      "execution_count": null,
      "id": "9542eaad",
      "metadata": {
        "id": "9542eaad"
      },
      "outputs": [],
      "source": [
        "## First, define a string using something like: word = \"CSS\"\n",
        "### YOUR CODE HERE"
      ]
    },
    {
      "cell_type": "markdown",
      "id": "1427a506",
      "metadata": {
        "id": "1427a506"
      },
      "source": [
        "### Check-in\n",
        "\n",
        "Write a `for` loop that `print`s out every letter in the string `\"Computational Social Science\"`, **except for the spaces**.\n",
        "\n",
        "**HINT**: Think about how you could combine a `for` loop with an `if` statement."
      ]
    },
    {
      "cell_type": "code",
      "execution_count": null,
      "id": "c0a6f7d2",
      "metadata": {
        "id": "c0a6f7d2"
      },
      "outputs": [],
      "source": [
        "## First, define a string using something like: word = \"Computational Social Science\"\n",
        "### YOUR CODE HERE"
      ]
    },
    {
      "cell_type": "markdown",
      "id": "9ae9dad8",
      "metadata": {
        "id": "9ae9dad8"
      },
      "source": [
        "## Loops and conditionals, *combined*\n",
        "\n",
        "The real expressive power of a `for` loop comes into play when we use **conditional statements**.\n",
        "\n",
        "- Remember that an `if` statement allows us to run a piece of code *only if* some condition is met.  "
      ]
    },
    {
      "cell_type": "markdown",
      "id": "65d9a2ab",
      "metadata": {
        "id": "65d9a2ab"
      },
      "source": [
        "### Check-in\n",
        "\n",
        "Why/how could an `if` statement be helpful when using a `for` loop?"
      ]
    },
    {
      "cell_type": "markdown",
      "id": "58fbfb1d",
      "metadata": {
        "id": "58fbfb1d"
      },
      "source": [
        "### `for` and `if`: a simple use-case\n",
        "\n",
        "Suppose you are instructed to write a program that prints out all the **even numbers** between 1 and 11.\n",
        "\n",
        "Breaking the problem down:\n",
        "\n",
        "1. First, we want to **iterate** through a `range` from `(1, 22)`.  \n",
        "2. Then, we want to check `if` each element of that range is **even**.  \n",
        "3. `if` a given element is even, we `print` it out."
      ]
    },
    {
      "cell_type": "markdown",
      "id": "477774fd",
      "metadata": {
        "id": "477774fd"
      },
      "source": [
        "#### Check-in\n",
        "\n",
        "How might we determine if a number is even?\n",
        "\n",
        "**Hint**: Think about the *modulo* operator (`%`)."
      ]
    },
    {
      "cell_type": "markdown",
      "id": "e41e0086",
      "metadata": {
        "id": "e41e0086"
      },
      "source": [
        "#### `print`ing even numbers in `range(1, 22)`"
      ]
    },
    {
      "cell_type": "code",
      "execution_count": null,
      "id": "3615ff81",
      "metadata": {
        "id": "3615ff81"
      },
      "outputs": [],
      "source": [
        "for num in range(1, 22): ## for loop\n",
        "    if num % 2 == 0:  ## conditional statement\n",
        "        print(num)  ## the code we want to execute"
      ]
    },
    {
      "cell_type": "markdown",
      "id": "6853b530",
      "metadata": {
        "id": "6853b530"
      },
      "source": [
        "### Check-in\n",
        "\n",
        "Suppose you're going grocery shopping. Here are the costs of each item:"
      ]
    },
    {
      "cell_type": "code",
      "execution_count": null,
      "id": "4a541538",
      "metadata": {
        "id": "4a541538"
      },
      "outputs": [],
      "source": [
        "costs = [5, 8, 4, 10, 15]\n",
        "costs"
      ]
    },
    {
      "cell_type": "markdown",
      "id": "62b5b87f",
      "metadata": {
        "id": "62b5b87f"
      },
      "source": [
        "You want to keep your costs low, so you decide not to buy anything above $9. How would you write a `for` loop that:\n",
        "\n",
        "- Iterates through `costs`.  \n",
        "- Tracks a `final_bill` variable.  \n",
        "- Only adds items to `final_bill` if they're below 9$?\n",
        "\n",
        "Try to implement this code before looking at the solution below."
      ]
    },
    {
      "cell_type": "code",
      "execution_count": null,
      "id": "701347b1",
      "metadata": {
        "id": "701347b1"
      },
      "outputs": [],
      "source": [
        "#### YOUR CODE HERE"
      ]
    },
    {
      "cell_type": "markdown",
      "id": "b34d744b",
      "metadata": {
        "id": "b34d744b"
      },
      "source": [
        "### Grocery shopping: a solution"
      ]
    },
    {
      "cell_type": "code",
      "execution_count": null,
      "id": "51fabf83",
      "metadata": {
        "id": "51fabf83"
      },
      "outputs": [],
      "source": [
        "costs = [5, 8, 4, 10, 15]\n",
        "final_bill = 0\n",
        "for item in costs:\n",
        "    if item <= 9:\n",
        "        final_bill += item\n",
        "print(final_bill)"
      ]
    },
    {
      "cell_type": "markdown",
      "id": "0c2f88ff",
      "metadata": {
        "id": "0c2f88ff"
      },
      "source": [
        "## Controlling `for` loops\n",
        "\n",
        "Sometimes, you may want an even finer degree of control over `for` loops. There are two commands that give you this control:\n",
        "\n",
        "1. `continue`: tells the `for` loop to **continue** onto the next item in the list (i.e., without necessarily doing anything with the current item).\n",
        "2. `break`: **cancels/stops** the `for` loop."
      ]
    },
    {
      "cell_type": "markdown",
      "id": "14333966",
      "metadata": {
        "id": "14333966"
      },
      "source": [
        "### `break` in action\n",
        "\n",
        "The following code iterates through a `range`, and `break`s once it gets to `5`."
      ]
    },
    {
      "cell_type": "code",
      "execution_count": null,
      "id": "3ace4eba",
      "metadata": {
        "id": "3ace4eba"
      },
      "outputs": [],
      "source": [
        "for num in range(1, 10):\n",
        "    if num == 5:\n",
        "        break\n",
        "    print(num)"
      ]
    },
    {
      "cell_type": "markdown",
      "id": "682edbe2",
      "metadata": {
        "id": "682edbe2"
      },
      "source": [
        "### `continue` in action\n",
        "\n",
        "The following code iterates through a `range`, and `continue`s once it gets to `5` (i.e., \"skips\")."
      ]
    },
    {
      "cell_type": "code",
      "execution_count": null,
      "id": "d9e78d4d",
      "metadata": {
        "id": "d9e78d4d"
      },
      "outputs": [],
      "source": [
        "for num in range(1, 10):\n",
        "    if num == 5:\n",
        "        continue\n",
        "    print(num)"
      ]
    },
    {
      "cell_type": "markdown",
      "id": "2b540a9e",
      "metadata": {
        "id": "2b540a9e"
      },
      "source": [
        "### Check-in\n",
        "\n",
        "How are `break` and `continue` different?"
      ]
    },
    {
      "cell_type": "markdown",
      "id": "321c1b48",
      "metadata": {
        "id": "321c1b48"
      },
      "source": [
        "## Nested `for` loops\n",
        "\n",
        "Just as we can **nest** conditional statements, we can also nest **loops**.  \n",
        "\n",
        "> A **nested loop** is a `for` or `while` loop contained *within* another `for` or `while` loop.\n",
        "\n",
        "As with nested `if` statements, it's very important to **be careful about your indentation**."
      ]
    },
    {
      "cell_type": "markdown",
      "id": "218d2860",
      "metadata": {
        "id": "218d2860"
      },
      "source": [
        "### Nested loops in action (pt. 1)"
      ]
    },
    {
      "cell_type": "code",
      "execution_count": null,
      "id": "8568edfb",
      "metadata": {
        "id": "8568edfb"
      },
      "outputs": [],
      "source": [
        "professors = ['Trott', 'Mignozzetti', 'Fleischer']\n",
        "classes = ['POLI 30', 'CSS 1']\n",
        "for cl in classes:\n",
        "    for prof in professors:\n",
        "        print(\"Is {cl} taught by {prof}?\".format(cl = cl, prof = prof))"
      ]
    },
    {
      "cell_type": "markdown",
      "id": "14f3882b",
      "metadata": {
        "id": "14f3882b"
      },
      "source": [
        "### Nested loops in action (pt. 2)\n",
        "\n",
        "**Note**: The `end = \" \"` parameter in the `print` function just tells Python not to print the `str` on a new line."
      ]
    },
    {
      "cell_type": "code",
      "execution_count": null,
      "id": "f3576464",
      "metadata": {
        "id": "f3576464"
      },
      "outputs": [],
      "source": [
        "for i in range(1, 6):\n",
        "    for j in range(1, i + 1):\n",
        "        print(\"*\", end=\" \")\n",
        "    print(\" \")"
      ]
    },
    {
      "cell_type": "markdown",
      "id": "8fa83d83",
      "metadata": {
        "id": "8fa83d83"
      },
      "source": [
        "### A note of caution\n",
        "\n",
        "- Nested `for` loops can take a very long to execute if:\n",
        "   - Your `list`s are very long.  \n",
        "   - You have many, many levels of nesting.  \n",
        "- Technically, the code in a nested for loop will run $N * M$ times, where $N$ is the length of the **outer loop**, and $M$ is the length of the **inner loop**.  \n",
        "   - This is beyond this course, but [making programs more efficient is an important part of Computer Science](https://en.wikipedia.org/wiki/Big_O_notation).  "
      ]
    },
    {
      "cell_type": "markdown",
      "id": "b0d2dd53",
      "metadata": {
        "id": "b0d2dd53"
      },
      "source": [
        "## `while` loops\n",
        "\n",
        "> A `while` loop is a procedure to repeat the same piece of code `while` some condition is met.\n",
        "\n",
        "For example:\n",
        "\n",
        "- Add numbers to a `shopping_bill` variable `while shopping_bill < 50`.  \n",
        "- Increase a `temperature` variable `while temperature < 85`.  \n",
        "- `while` some condition is met, continue running a **simulation**."
      ]
    },
    {
      "cell_type": "markdown",
      "id": "a01ee9ec",
      "metadata": {
        "id": "a01ee9ec"
      },
      "source": [
        "### Check-in\n",
        "\n",
        "How are `for` and `while` loops similar? How are they different?"
      ]
    },
    {
      "cell_type": "markdown",
      "id": "c9bc7719",
      "metadata": {
        "id": "c9bc7719"
      },
      "source": [
        "### `while` loops in action\n",
        "\n",
        "A `while` loop is created using the `while` keyword, following by a **condition**. As long as this condition is met, the `while` loop will continue!  \n",
        "\n",
        "In the code below:\n",
        "\n",
        "- The `start` variable begins at `0`.  \n",
        "- We then declare a `while` loop, which will run as long as `start < 2`.  \n",
        "- Then, the `start` variable is incremented by `1` with each **iteration**, guaranteeing that eventually we'll reach the condition where `start >= 2` (thus \"breaking\" the loop)."
      ]
    },
    {
      "cell_type": "code",
      "execution_count": null,
      "id": "6518d5d5",
      "metadata": {
        "id": "6518d5d5"
      },
      "outputs": [],
      "source": [
        "start = 0\n",
        "while start < 2: ### Conditional statement\n",
        "    print(start)\n",
        "    start += 1"
      ]
    },
    {
      "cell_type": "markdown",
      "id": "4da2d601",
      "metadata": {
        "id": "4da2d601"
      },
      "source": [
        "### Iterating through a `list`\n",
        "\n",
        "`while` loops are often used to iterate through a `list`.\n",
        "\n",
        "To do this, we use an **index** variable, which simply keeps track of \"where\" in the list we are.\n",
        "\n",
        "- Recall that we can **index** into a `list` using the syntax `list_name[0]`.\n",
        "- We can also retrieve the **length** of that `list` using `len(list_name)`.  "
      ]
    },
    {
      "cell_type": "code",
      "execution_count": null,
      "id": "434ac8f3",
      "metadata": {
        "id": "434ac8f3"
      },
      "outputs": [],
      "source": [
        "numbers = [1, 2, 3] ## List to iterate through\n",
        "index = 0 ## Start index at 0\n",
        "while index < len(numbers):\n",
        "    print(\"Index: {i}. Number: {n}.\".format(i = index, n = numbers[index]))\n",
        "    index += 1"
      ]
    },
    {
      "cell_type": "markdown",
      "id": "7fc5727d",
      "metadata": {
        "id": "7fc5727d"
      },
      "source": [
        "### Check-in\n",
        "\n",
        "You want to keep your grocery costs low, so you decide not to buy anything above 9. How would you write a `while` loop that:\n",
        "\n",
        "- Iterates through `costs`.  \n",
        "- Tracks a `final_bill` variable.  \n",
        "- Only adds items to `final_bill` if they're below 9$?\n",
        "\n",
        "**Hints**:\n",
        "\n",
        "- You can retrieve the *length* of a list using `len(list_name)`.  \n",
        "- If you're using an *index*, remember to **increment** it so you don't get stuck in a loop."
      ]
    },
    {
      "cell_type": "code",
      "execution_count": null,
      "id": "2c3f757b",
      "metadata": {
        "id": "2c3f757b"
      },
      "outputs": [],
      "source": [
        "costs = [5, 8, 4, 10, 15]\n",
        "#### YOUR CODE HERE"
      ]
    },
    {
      "cell_type": "markdown",
      "id": "d2de7224",
      "metadata": {
        "id": "d2de7224"
      },
      "source": [
        "### Solution"
      ]
    },
    {
      "cell_type": "code",
      "execution_count": null,
      "id": "7ed90ab2",
      "metadata": {
        "id": "7ed90ab2"
      },
      "outputs": [],
      "source": [
        "index = 0\n",
        "final_bill = 0\n",
        "while index < len(costs):\n",
        "    if costs[index] < 9:\n",
        "        final_bill += costs[index]\n",
        "    index += 1\n",
        "print(final_bill)"
      ]
    },
    {
      "cell_type": "markdown",
      "id": "2038b863",
      "metadata": {
        "id": "2038b863"
      },
      "source": [
        "### Stuck in a loop?\n",
        "\n",
        "A common issue that programmers encounter is getting \"stuck\" in an **infinite** `while` loop. This happens because they haven't ensured that the **condition** will eventually evaluate as `False`.  \n",
        "\n",
        "- This is surprisingly easy to do, even as an experienced programmer.  \n",
        "- For this reason, I typically prefer to use a `for` loop rather than a `while` loop, unless I absolutely have to.\n",
        "\n",
        "If you **do** find yourself stuck, you can \"cancel\" the loop manually:\n",
        "\n",
        "- Pressing the **Stop** button in the Jupyter toolbar.\n",
        "- Pressing `Command + C` in the Terminal.  "
      ]
    },
    {
      "cell_type": "markdown",
      "id": "76336178",
      "metadata": {
        "id": "76336178"
      },
      "source": [
        "### Check-in\n",
        "\n",
        "What will the final value of `room_temperature` be if the following `while` loop is run? What about the final value of `body_temperature`?"
      ]
    },
    {
      "cell_type": "code",
      "execution_count": null,
      "id": "496e2400",
      "metadata": {
        "id": "496e2400"
      },
      "outputs": [],
      "source": [
        "room_temperature = 40\n",
        "body_temperature = 92\n",
        "while room_temperature < 70:\n",
        "    room_temperature += 1\n",
        "    body_temperature += .2"
      ]
    },
    {
      "cell_type": "markdown",
      "id": "c72adbd8",
      "metadata": {
        "id": "c72adbd8"
      },
      "source": [
        "## Conclusion\n",
        "\n",
        "This concludes our unit on **loops**! We'll continue using both `for` and `while` **loops** throughout the course.\n",
        "\n",
        "Key takeaways:\n",
        "\n",
        "- A **loop** can be used to repeat the same piece of code many times.  \n",
        "- A `for` loop **iterates** through a sequence and does the same thing for each item in that sequence.  \n",
        "- A `while` loop runs the code code as long as some **condition** is met.  \n",
        "   - `while` loops sometimes get \"stuck\", if you're not careful about ensuring this condition will eventually evaluate to `False`.  "
      ]
    },
    {
      "cell_type": "markdown",
      "id": "f1361888",
      "metadata": {
        "id": "f1361888"
      },
      "source": [
        "## Some final (challenging) practice"
      ]
    },
    {
      "cell_type": "markdown",
      "id": "e74d3566",
      "metadata": {
        "id": "e74d3566"
      },
      "source": [
        "### Practice 1\n",
        "\n",
        "Write a `while` loop to count the number of **vowels** in a string. The code block below starts with a `list` of vowels alreay, which you can use to cross-reference when iterating through a string.\n",
        "\n",
        "**Hint**: If you're feeling extra ambitious, you might think about how to handle *upper-case* vowels."
      ]
    },
    {
      "cell_type": "code",
      "execution_count": null,
      "id": "1fd42b6a",
      "metadata": {
        "id": "1fd42b6a"
      },
      "outputs": [],
      "source": [
        "vowels = ['a', 'e', 'i', 'o', 'u']\n",
        "example_string = \"CSS is great\"\n",
        "### Your code here"
      ]
    },
    {
      "cell_type": "markdown",
      "id": "1f263321",
      "metadata": {
        "id": "1f263321"
      },
      "source": [
        "### Practice 2\n",
        "\n",
        "Write a `for` loop that:\n",
        "\n",
        "- Iterates through a `list` of numbers.  \n",
        "- `if` the number (e.g., `i`) is **even**, iterates through a **nested** `for` loop of all those same numbers, and...\n",
        "   - `if` a given number is **odd** `and` larger than `i`, `print`s out the sum of those numbers.\n",
        "   \n",
        "**Hint**: Remember that `%` can be used to figure out whether a given number is divisible by 2 (e.g., `4 % 2 == 0`)."
      ]
    },
    {
      "cell_type": "code",
      "execution_count": null,
      "id": "fbe765f1",
      "metadata": {
        "id": "fbe765f1"
      },
      "outputs": [],
      "source": [
        "### Your code here"
      ]
    },
    {
      "cell_type": "markdown",
      "id": "fc098dc8",
      "metadata": {
        "id": "fc098dc8"
      },
      "source": [
        "### Practice 3\n",
        "\n",
        "Create a `while` loop that runs forever. Can you think of a reason to run a loop like that?"
      ]
    },
    {
      "cell_type": "code",
      "execution_count": null,
      "id": "aeb2b007",
      "metadata": {
        "id": "aeb2b007"
      },
      "outputs": [],
      "source": [
        "### Your code here"
      ]
    },
    {
      "cell_type": "markdown",
      "id": "085bcbec",
      "metadata": {
        "id": "085bcbec"
      },
      "source": [
        "### Solution"
      ]
    },
    {
      "cell_type": "code",
      "execution_count": null,
      "id": "13015820",
      "metadata": {
        "id": "13015820"
      },
      "outputs": [],
      "source": [
        "### Practice 1\n",
        "vowels = ['a', 'e', 'i', 'o', 'u']\n",
        "example_string = \"CSS is great\"\n",
        "num_vowels = 0\n",
        "index = 0\n",
        "while index < len(example_string):\n",
        "    if example_string[index].lower() in vowels:\n",
        "        num_vowels += 1\n",
        "    index += 1\n",
        "print(str(num_vowels) + \" vowels in '{x}'\".format(x = example_string))"
      ]
    },
    {
      "cell_type": "code",
      "execution_count": null,
      "id": "c963e8dc",
      "metadata": {
        "id": "c963e8dc"
      },
      "outputs": [],
      "source": [
        "### Practice 2\n",
        "numbers = range(1, 10)\n",
        "for num in numbers:\n",
        "    if num % 2 == 0:\n",
        "        for num2 in numbers:\n",
        "            if num2 % 2 == 1 and num2 > num:\n",
        "                print(\"{x} + {y} = {z}\".format(x = num,\n",
        "                                               y = num2,\n",
        "                                               z = num + num2))"
      ]
    },
    {
      "cell_type": "code",
      "execution_count": null,
      "id": "f542bcd4",
      "metadata": {
        "id": "f542bcd4"
      },
      "outputs": [],
      "source": [
        "### Practice 3: Don't run it!\n",
        "\n",
        "#while True:\n",
        "#    print(\"Oh no! I'm stuck in here forever!\")\n",
        "\n",
        "# They can be useful for creating a command prompt."
      ]
    }
  ],
  "metadata": {
    "celltoolbar": "Slideshow",
    "kernelspec": {
      "display_name": "Python 3 (ipykernel)",
      "language": "python",
      "name": "python3"
    },
    "language_info": {
      "codemirror_mode": {
        "name": "ipython",
        "version": 3
      },
      "file_extension": ".py",
      "mimetype": "text/x-python",
      "name": "python",
      "nbconvert_exporter": "python",
      "pygments_lexer": "ipython3",
      "version": "3.9.5"
    },
    "colab": {
      "provenance": []
    }
  },
  "nbformat": 4,
  "nbformat_minor": 5
}