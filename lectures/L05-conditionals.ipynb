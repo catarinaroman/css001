{
  "cells": [
    {
      "cell_type": "markdown",
      "id": "798c697e",
      "metadata": {
        "id": "798c697e"
      },
      "source": [
        "# Control Flow: Conditionals"
      ]
    },
    {
      "cell_type": "markdown",
      "source": [
        "## Announcements\n",
        "\n",
        "We are finally in our permanent Canvas!\n",
        "\n",
        "This Friday, just submit your Lab to the appropriate Assignment on Canvas, as you would do in any other class.\n",
        "\n",
        "Next week we will spend some time getting used to the other tools -- like Vocareum -- that we will use to submit assignments in this course.\n"
      ],
      "metadata": {
        "id": "28Rjd7PJ_-JH"
      },
      "id": "28Rjd7PJ_-JH"
    },
    {
      "cell_type": "markdown",
      "id": "dd3abbc9",
      "metadata": {
        "id": "dd3abbc9"
      },
      "source": [
        "## Goals of this lecture\n",
        "\n",
        "- What is \"control flow\"?  \n",
        "- What is a **conditional**?\n",
        "- Conditionals in action (`if/elif/else`).  \n",
        "- Complex and nested conditional statements."
      ]
    },
    {
      "cell_type": "markdown",
      "id": "69418b86",
      "metadata": {
        "id": "69418b86"
      },
      "source": [
        "## What is control flow?\n",
        "\n",
        "By default, Python commands are executed in a *linear* order, i.e., line by line.  \n",
        " - Unless we tell Python otherwise, *each line* will be executed once.\n",
        "\n",
        "But sometimes it's useful to **control the flow of our code**:\n",
        "1. Which lines get executed?\n",
        "2. How many times do those lines get executed?  \n",
        "\n",
        "These control \"parameters\" correspond, roughly, to:\n",
        "1. Conditional statements (`if/elif/else`).  \n",
        "2. Loops (e.g., `for` or `while`)."
      ]
    },
    {
      "cell_type": "markdown",
      "id": "d7e8abd4",
      "metadata": {
        "id": "d7e8abd4"
      },
      "source": [
        "## What is control flow?\n",
        "\n",
        "![image](https://github.com/UCSD-CSS1-Introduction/lecturesWI2023/blob/main/img/flow1.png?raw=true)"
      ]
    },
    {
      "cell_type": "markdown",
      "id": "825e1d3d",
      "metadata": {
        "id": "825e1d3d"
      },
      "source": [
        "## What is a conditional?\n",
        "\n",
        "> In a nutshell, a **conditional** is a statement that checks for whether some *condition* is met.\n",
        "\n",
        "We can use the `if` command to **control** which lines of code are executed."
      ]
    },
    {
      "cell_type": "code",
      "execution_count": null,
      "id": "c1e4ae75",
      "metadata": {
        "id": "c1e4ae75"
      },
      "outputs": [],
      "source": [
        "condition = True\n",
        "if condition:\n",
        "    print(\"This code will only run if the condition is True.\")"
      ]
    },
    {
      "cell_type": "code",
      "execution_count": null,
      "id": "754ea5fc",
      "metadata": {
        "id": "754ea5fc"
      },
      "outputs": [],
      "source": [
        "condition = False\n",
        "if condition:\n",
        "    print(\"This code will only run if the condition is True.\")"
      ]
    },
    {
      "cell_type": "markdown",
      "id": "0c29e04a",
      "metadata": {
        "id": "0c29e04a"
      },
      "source": [
        "### Check-in\n",
        "\n",
        "Consider the code block below. Which part is the **conditional statement**?"
      ]
    },
    {
      "cell_type": "code",
      "execution_count": null,
      "id": "c0afca1f",
      "metadata": {
        "id": "c0afca1f"
      },
      "outputs": [],
      "source": [
        "x = 10\n",
        "y = 5\n",
        "if x > y:\n",
        "    print(\"X is bigger than Y.\")"
      ]
    },
    {
      "cell_type": "markdown",
      "id": "bf4c25d9",
      "metadata": {
        "id": "bf4c25d9"
      },
      "source": [
        "### Check-in\n",
        "\n",
        "Consider the code block below. Why won't the `print` statement run?"
      ]
    },
    {
      "cell_type": "code",
      "execution_count": null,
      "id": "e60e9783",
      "metadata": {
        "id": "e60e9783"
      },
      "outputs": [],
      "source": [
        "x = \"One string\"\n",
        "y = \"Another string\"\n",
        "if x == y:\n",
        "    print(\"These strings are the same.\")"
      ]
    },
    {
      "cell_type": "markdown",
      "id": "029701de",
      "metadata": {
        "id": "029701de"
      },
      "source": [
        "### What belongs in an `if` statement?\n",
        "\n",
        "- An `if` statement should evaluate to `True` or `False`.  \n",
        "  - This includes the outcome of any **comparison** operation (`>`, `==`, etc.).  \n",
        "  - Technically, it also includes numbers/strings (which evaluate to `True`) and `NoneType` (which is equivalent to `False`).  \n",
        "- An `if` statement is *extremely useful* for modifying the behavior of a program, depending on some **condition**."
      ]
    },
    {
      "cell_type": "code",
      "execution_count": null,
      "id": "eab71505",
      "metadata": {
        "id": "eab71505"
      },
      "outputs": [],
      "source": [
        "if None:\n",
        "    print(\"This won't print\")"
      ]
    },
    {
      "cell_type": "markdown",
      "id": "5436d7ce",
      "metadata": {
        "id": "5436d7ce"
      },
      "source": [
        "### Check-in\n",
        "\n",
        "What happens if our `if` statement evaluates to `False` (e.g., the statement `4 > 5` would evaluate to `False`)?"
      ]
    },
    {
      "cell_type": "markdown",
      "id": "94a2dc59",
      "metadata": {
        "id": "94a2dc59"
      },
      "source": [
        "### Conditionals with operators\n",
        "\n",
        "Conditional statements can be used with **operators**. This is really useful if you want to modify your program based on whether two variables are equal (`==`), or one is larger (`>`) or smaller (`<`) than the others, and so on."
      ]
    },
    {
      "cell_type": "code",
      "execution_count": null,
      "id": "0bdc43a1",
      "metadata": {
        "id": "0bdc43a1"
      },
      "outputs": [],
      "source": [
        "checking_account = 1000\n",
        "if checking_account > 200:\n",
        "    print(\"Withdrawal allowed.\")"
      ]
    },
    {
      "cell_type": "markdown",
      "id": "c22ae539",
      "metadata": {
        "id": "c22ae539"
      },
      "source": [
        "## `else` statement\n",
        "\n",
        "> An `else` statement tells Python what to do if an `if` statement evaluates to `False`."
      ]
    },
    {
      "cell_type": "code",
      "execution_count": null,
      "id": "924a00f2",
      "metadata": {
        "id": "924a00f2"
      },
      "outputs": [],
      "source": [
        "condition = False\n",
        "if condition:\n",
        "    print(\"Condition is TRUE.\")\n",
        "else:\n",
        "    print(\"Condition is FALSE.\")"
      ]
    },
    {
      "cell_type": "markdown",
      "id": "58c07b01",
      "metadata": {
        "id": "58c07b01"
      },
      "source": [
        "### When to use an `else` statement?\n",
        "\n",
        "An `else` statement can **only** be used after an `if` statement (see the `SyntaxError` below).  "
      ]
    },
    {
      "cell_type": "code",
      "execution_count": null,
      "id": "a2c00d03",
      "metadata": {
        "id": "a2c00d03"
      },
      "outputs": [],
      "source": [
        "else:\n",
        "    print(\"test\")"
      ]
    },
    {
      "cell_type": "markdown",
      "id": "9d1e16e4",
      "metadata": {
        "id": "9d1e16e4"
      },
      "source": [
        "An `else` statement is most useful if you want two different things to happen, depending some condition:\n",
        "\n",
        "1. If `condition == True`, execute Action A.  \n",
        "2. `else`, execute Action B."
      ]
    },
    {
      "cell_type": "code",
      "execution_count": null,
      "id": "0b3aa3bf",
      "metadata": {
        "id": "0b3aa3bf"
      },
      "outputs": [],
      "source": [
        "condition = False\n",
        "if condition:\n",
        "    print(\"Do this if the condition is TRUE.\")\n",
        "else:\n",
        "    print(\"Do this if the condition is FALSE.\")"
      ]
    },
    {
      "cell_type": "markdown",
      "id": "9dba48d1",
      "metadata": {
        "id": "9dba48d1"
      },
      "source": [
        "## Quick note on indentation\n",
        "\n",
        "Notice that the code below an `if` or `else` statement must be **indented**, if you want it to be associated with that statement.\n",
        "\n",
        "If there is no indented code below an `if` statement, you'll get an `IndentationError`."
      ]
    },
    {
      "cell_type": "code",
      "execution_count": null,
      "id": "ef9c8ca5",
      "metadata": {
        "id": "ef9c8ca5"
      },
      "outputs": [],
      "source": [
        "if 3 > 2:\n",
        "print(\"No idententation\")"
      ]
    },
    {
      "cell_type": "markdown",
      "id": "e608bc3f",
      "metadata": {
        "id": "e608bc3f"
      },
      "source": [
        "However, you *can* still have un-indented code below an `if` or `else` statement, as long as there's *also* indented code."
      ]
    },
    {
      "cell_type": "code",
      "execution_count": null,
      "id": "d29102a7",
      "metadata": {
        "id": "d29102a7"
      },
      "outputs": [],
      "source": [
        "if 3 > 2:\n",
        "    print(\"This will execute if the condition is met.\")\n",
        "print(\"This will execute regardless.\")"
      ]
    },
    {
      "cell_type": "markdown",
      "id": "41f23d46",
      "metadata": {
        "id": "41f23d46"
      },
      "source": [
        "### Check-in\n",
        "\n",
        "Which lines in the code below would actually print?\n",
        "\n",
        "```python\n",
        "condition = False\n",
        "if condition:\n",
        "    print(\"Do this if the condition is TRUE.\")\n",
        "else:\n",
        "    print(\"Do this if the condition is FALSE.\")\n",
        "print(\"Also do this.\")\n",
        "```"
      ]
    },
    {
      "cell_type": "markdown",
      "id": "ef34968a",
      "metadata": {
        "id": "ef34968a"
      },
      "source": [
        "## `elif` statement\n",
        "\n",
        "> An `elif` statement tells Python what to do if an `if` statement evaluates to `False`, *and* some other condition is met.\n",
        "\n",
        "This is kind of a combination of an `if` and `else` statement.  "
      ]
    },
    {
      "cell_type": "code",
      "execution_count": null,
      "id": "695f453f",
      "metadata": {
        "id": "695f453f"
      },
      "outputs": [],
      "source": [
        "condition1 = False\n",
        "condition2 = True\n",
        "if condition1:\n",
        "    print(\"Condition 1 is true.\")\n",
        "elif condition2:\n",
        "    print(\"Condition 2 is true.\")"
      ]
    },
    {
      "cell_type": "markdown",
      "id": "63ad04e9",
      "metadata": {
        "id": "63ad04e9"
      },
      "source": [
        "### When will an `elif` statement run?\n",
        "\n",
        "An `elif` statement will *only run* if the `if` statement evaluates to `False`––even if the `elif` statement would've evaluated to `True`!"
      ]
    },
    {
      "cell_type": "code",
      "execution_count": null,
      "id": "e663281f",
      "metadata": {
        "id": "e663281f"
      },
      "outputs": [],
      "source": [
        "condition1 = True\n",
        "condition2 = True\n",
        "if condition1:\n",
        "    print(\"Condition 1 is true.\")\n",
        "elif condition2:\n",
        "    print(\"Condition 2 is also true, but this won't print.\")"
      ]
    },
    {
      "cell_type": "markdown",
      "id": "f2ef8847",
      "metadata": {
        "id": "f2ef8847"
      },
      "source": [
        "#### `if` vs. `elif`\n",
        "\n",
        "The key difference between two `if` statements in a row vs. an `if/elif` statement is:\n",
        "\n",
        "- The code under both `if` statements can run if both statements are `True`.  \n",
        "- The code under an `elif` statement will only run if the `if` statement is False."
      ]
    },
    {
      "cell_type": "code",
      "execution_count": null,
      "id": "79a05a5d",
      "metadata": {
        "id": "79a05a5d"
      },
      "outputs": [],
      "source": [
        "condition1 = True\n",
        "condition2 = True\n",
        "if condition1:\n",
        "    print(\"Condition 1 is true.\")\n",
        "if condition2:\n",
        "    print(\"Condition 2 is also true, and this will also print.\")"
      ]
    },
    {
      "cell_type": "markdown",
      "id": "a5ff5a59",
      "metadata": {
        "id": "a5ff5a59"
      },
      "source": [
        "#### `elif` vs. `else`\n",
        "\n",
        "- An `elif` statement cannot be placed after an `else` statement.\n",
        "   - This will generate a `SyntaxError`.\n",
        "- It also just doesn't make sense logically. If `elif` were at the end, it'd never be evaluated anyway, since `else` covers everything other than the `if` statement.\n"
      ]
    },
    {
      "cell_type": "code",
      "execution_count": null,
      "id": "7b334301",
      "metadata": {
        "id": "7b334301"
      },
      "outputs": [],
      "source": [
        "if 2 > 3:\n",
        "    print(\"True\")\n",
        "else:\n",
        "    print(\"False\")\n",
        "elif 2 > 1:\n",
        "    print(\"True?\")"
      ]
    },
    {
      "cell_type": "markdown",
      "id": "ea43bd99",
      "metadata": {
        "id": "ea43bd99"
      },
      "source": [
        "### Check-in\n",
        "\n",
        "What do you expect the value of `x` to be if the following code is run? (Try to figure it out before running the code to check what `x` is.)"
      ]
    },
    {
      "cell_type": "code",
      "execution_count": null,
      "id": "e7d0fa3d",
      "metadata": {
        "id": "e7d0fa3d"
      },
      "outputs": [],
      "source": [
        "y = 1\n",
        "x = 0\n",
        "if y >= 1:\n",
        "    x -= 2\n",
        "elif y >= 1:\n",
        "    x -= 1\n",
        "else:\n",
        "    x += 1"
      ]
    },
    {
      "cell_type": "markdown",
      "id": "364de463",
      "metadata": {
        "id": "364de463"
      },
      "source": [
        "### Check-in\n",
        "\n",
        "What do you expect the value of `x` to be if the following code is run? (Try to figure it out before running the code to check what `x` is.)"
      ]
    },
    {
      "cell_type": "code",
      "execution_count": null,
      "id": "5f25efc5",
      "metadata": {
        "id": "5f25efc5"
      },
      "outputs": [],
      "source": [
        "y = 1\n",
        "x = 0\n",
        "if y >= 1:\n",
        "    x -= 2\n",
        "if y >= 0:\n",
        "    x -= 1\n",
        "else:\n",
        "    x += 1"
      ]
    },
    {
      "cell_type": "markdown",
      "id": "2c94be21",
      "metadata": {
        "id": "2c94be21"
      },
      "source": [
        "### Check-in\n",
        "\n",
        "Why did those two different code blocks behave differently?"
      ]
    },
    {
      "cell_type": "markdown",
      "id": "8c10e61a",
      "metadata": {
        "id": "8c10e61a"
      },
      "source": [
        "### Both `elif` and `else` \"attach\" to the nearest `if` statement\n",
        "\n",
        "Any given `else` or `elif` statement is attached/associated with exactly one `if` statement (the one immediately above).  \n",
        "\n",
        "This means that we must be very *careful* to think about what each `else` statement is actually comparing against."
      ]
    },
    {
      "cell_type": "markdown",
      "id": "bb158781",
      "metadata": {
        "id": "bb158781"
      },
      "source": [
        "### Check-in\n",
        "\n",
        "The following code ends up printing a contradiction (e.g., `A is True`, followed by `Neither A nor B are True`). Why is this happening?\n",
        "\n",
        "**Hint**: Think about what we just discussed––an `else` attaches to the nearest `if` statement."
      ]
    },
    {
      "cell_type": "code",
      "execution_count": null,
      "id": "00920007",
      "metadata": {
        "id": "00920007"
      },
      "outputs": [],
      "source": [
        "A = True\n",
        "B = False\n",
        "C = True\n",
        "if A:\n",
        "    print(\"A is True\")\n",
        "if B:\n",
        "    print(\"B is True\")\n",
        "else:\n",
        "    print(\"Neither A nor B are True.\")"
      ]
    },
    {
      "cell_type": "markdown",
      "id": "61994e01",
      "metadata": {
        "id": "61994e01"
      },
      "source": [
        "## More complex conditionals\n",
        "\n",
        "So far, we've dealt with fairly limited **conditional** statements:\n",
        "\n",
        "1. Each `if` checks only a single condition.  \n",
        "2. Relatively linear ordering: `if`, `elif`, then `else`.  \n",
        "\n",
        "But conditional statements can be considerably more complex:\n",
        "\n",
        "1. Each `if` statement can check multiple conditions using [logical operators](04-basics-syntax) like `or` and `and`.  \n",
        "2. Conditional statements can be **nested**.  "
      ]
    },
    {
      "cell_type": "markdown",
      "id": "4858d9a8",
      "metadata": {
        "id": "4858d9a8"
      },
      "source": [
        "### Using `and` and `or`\n",
        "\n",
        "Recall that `and` and `or` can be used to evaluate *multiple* statements.  \n",
        "\n",
        "- `and` returns `True` if all statements are `True`.  \n",
        "- `or` returns `True` if at least one statement is `True`.  \n",
        "\n",
        "We can use these to check for more complex conditions."
      ]
    },
    {
      "cell_type": "code",
      "execution_count": null,
      "id": "c912c8bf",
      "metadata": {
        "id": "c912c8bf"
      },
      "outputs": [],
      "source": [
        "a = 20\n",
        "b = 30\n",
        "c = 40\n",
        "if b > a and c > b:\n",
        "    print(\"Both conditions are True.\")"
      ]
    },
    {
      "cell_type": "markdown",
      "id": "3cc75435",
      "metadata": {
        "id": "3cc75435"
      },
      "source": [
        "### Check-in\n",
        "\n",
        "Why does the top code block execute the code under the `if` statement, while the bottom one doesn't?"
      ]
    },
    {
      "cell_type": "code",
      "execution_count": null,
      "id": "4ce7f111",
      "metadata": {
        "id": "4ce7f111"
      },
      "outputs": [],
      "source": [
        "a = 20\n",
        "b = 30\n",
        "c = 25\n",
        "if b > a or c > b:\n",
        "    print(\"At least one condition is True.\")"
      ]
    },
    {
      "cell_type": "code",
      "execution_count": null,
      "id": "7aa6ca45",
      "metadata": {
        "id": "7aa6ca45"
      },
      "outputs": [],
      "source": [
        "a = 20\n",
        "b = 30\n",
        "c = 25\n",
        "if b > a and c > b:\n",
        "    print(\"Both conditions are True.\")"
      ]
    },
    {
      "cell_type": "markdown",
      "id": "ee8d5ed8",
      "metadata": {
        "id": "ee8d5ed8"
      },
      "source": [
        "### A simple use-case for `and`"
      ]
    },
    {
      "cell_type": "code",
      "execution_count": null,
      "id": "4d0c8057",
      "metadata": {
        "id": "4d0c8057"
      },
      "outputs": [],
      "source": [
        "is_password = True\n",
        "checking_account = 1000\n",
        "withdrawal = 500\n",
        "if is_password and (withdrawal < checking_account):\n",
        "    print(\"Withdrawal permitted.\")\n",
        "    checking_account -= withdrawal\n",
        "    print(str(checking_account) + \" left in checking.\")"
      ]
    },
    {
      "cell_type": "markdown",
      "id": "eb7f6ecf",
      "metadata": {
        "id": "eb7f6ecf"
      },
      "source": [
        "### A simple use-case for `or`"
      ]
    },
    {
      "cell_type": "code",
      "execution_count": null,
      "id": "9fb7876c",
      "metadata": {
        "id": "9fb7876c"
      },
      "outputs": [],
      "source": [
        "is_dog = True\n",
        "is_cat = False\n",
        "if is_dog or is_cat:\n",
        "    print(\"This is a dog or cat.\")\n",
        "else:\n",
        "    print(\"This is neither a dog nor cat.\")"
      ]
    },
    {
      "cell_type": "markdown",
      "id": "17d9b8c7",
      "metadata": {
        "id": "17d9b8c7"
      },
      "source": [
        "### Check-in: `and` vs. `else`\n",
        "\n",
        "How would an `else` statement behave following an `if` statement using an `and` (e.g., `X and Y`)? (Choose either (1) or (2).)\n",
        "\n",
        "1. The `else` statement will run if both `X` and `Y` are `False`.  \n",
        "2. The `else` statement will run if at least one of `X` and `Y` is `False."
      ]
    },
    {
      "cell_type": "markdown",
      "id": "9b5a68f4",
      "metadata": {
        "id": "9b5a68f4"
      },
      "source": [
        "### Check-in: `or` vs. `else`\n",
        "\n",
        "How would an `else` statement behave following an `if` statement using an `or` (e.g., `X or Y`)? (Choose either (1) or (2).)\n",
        "\n",
        "1. The `else` statement will run if both `X` and `Y` are `False`.  \n",
        "2. The `else` statement will run if at least one of `X` and `Y` is `False."
      ]
    },
    {
      "cell_type": "markdown",
      "id": "de370716",
      "metadata": {
        "id": "de370716"
      },
      "source": [
        "### Using nested conditionals\n",
        "\n",
        "> A **nested conditional** is one that contains at least one `if` statement \"nested\" within another conditional statement."
      ]
    },
    {
      "cell_type": "code",
      "execution_count": null,
      "id": "3a4419a0",
      "metadata": {
        "id": "3a4419a0"
      },
      "outputs": [],
      "source": [
        "a = 8\n",
        "if a > 5:\n",
        "    if a >= 10:\n",
        "        print(\"A is greater than or equal to 10.\")\n",
        "    else:\n",
        "        print(\"A is bigger than 5, but smaller than 10.\")\n",
        "else:\n",
        "    print(\"A is smaller than or equal to 5.\")"
      ]
    },
    {
      "cell_type": "markdown",
      "id": "ee2c7ef8",
      "metadata": {
        "id": "ee2c7ef8"
      },
      "source": [
        "### Nested `if` vs. `and`\n",
        "\n",
        "- A nested `if` statement functions similarly to an `and` statement.\n",
        "- In both cases, some block of code will only run if **both** conditions are met.  \n",
        "- The key difference is that a nested `if` statement allows you more **granularity** in terms of evaluating which conditions are met, and what to do in each case."
      ]
    },
    {
      "cell_type": "markdown",
      "id": "1410e72e",
      "metadata": {
        "id": "1410e72e"
      },
      "source": [
        "## Code Style: Indentation\n",
        "\n",
        "- With conditionals, it's hugely important that you keep track of your **indentation**.  \n",
        "- It's easy to introduce **bugs** by making something indented where it shouldn't be, or the other way around.  \n",
        "- Debugging practice:\n",
        "   - As before, read each line carefully.  \n",
        "   - Track the **state** of each variable.  \n",
        "   - Track whether a given conditional statement evaluates to `True` or `False`, and what would happen next."
      ]
    },
    {
      "cell_type": "markdown",
      "id": "49755dcd",
      "metadata": {
        "id": "49755dcd"
      },
      "source": [
        "## Conclusion\n",
        "\n",
        "- **Conditional statements** give you extra control over which lines in your Python program get run.  \n",
        "- This is very useful for modifying the behavior of your program, depending on some other condition.  \n",
        "   - When we discuss **functions** (and later on, **filtering** datasets), this will become even clearer.\n",
        "- Important to keep track of your **indentation** when dealing with `if` statements, especially nested statements."
      ]
    }
  ],
  "metadata": {
    "celltoolbar": "Slideshow",
    "kernelspec": {
      "display_name": "Python 3 (ipykernel)",
      "language": "python",
      "name": "python3"
    },
    "language_info": {
      "codemirror_mode": {
        "name": "ipython",
        "version": 3
      },
      "file_extension": ".py",
      "mimetype": "text/x-python",
      "name": "python",
      "nbconvert_exporter": "python",
      "pygments_lexer": "ipython3",
      "version": "3.9.5"
    },
    "colab": {
      "provenance": []
    }
  },
  "nbformat": 4,
  "nbformat_minor": 5
}