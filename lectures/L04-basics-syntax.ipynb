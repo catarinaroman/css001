{
  "cells": [
    {
      "cell_type": "markdown",
      "id": "1442fc96",
      "metadata": {
        "id": "1442fc96"
      },
      "source": [
        "# Python Basics: Operators and Syntax"
      ]
    },
    {
      "cell_type": "markdown",
      "id": "b06b8b8c",
      "metadata": {
        "id": "b06b8b8c"
      },
      "source": [
        "## Announcements\n",
        "\n",
        "- **Problem set 1:** We will release on Friday. Due in two weeks from Friday -- see syllabus.\n",
        "\n",
        "- **Lab 1**: We will release it today, and it is due on Friday of this week. If we are still having technical issues, I will postpone the due date. The TA will do it with you in lab today.\n",
        "\n",
        "- **Vocareum:** I'll post a video down the week and explain in lecture how to use it. We will only use it once we have the new Canvas page up and running."
      ]
    },
    {
      "cell_type": "markdown",
      "id": "6f362248",
      "metadata": {
        "id": "6f362248"
      },
      "source": [
        "## Goals of this lecture\n",
        "\n",
        "- What is syntax?\n",
        "- Key [**operators** in Python](https://www.w3schools.com/python/python_operators.asp).\n",
        "   - Math.\n",
        "   - Logic.\n",
        "   - Comparisons.  \n",
        "   - Identity.  \n",
        "   - Membership.\n",
        "- Indentation in Python."
      ]
    },
    {
      "cell_type": "markdown",
      "id": "f0c8fc7b",
      "metadata": {
        "id": "f0c8fc7b"
      },
      "source": [
        "## Python Syntax: Overview\n",
        "\n",
        "The **syntax** of a programming language is the set of rules about how different symbols can be combined to produce correctly structured statements.  \n",
        "\n",
        "Like other programming languages, Python has particular **syntactic rules**.  \n",
        "- Failure to follow these rules results in a `SyntaxError`.\n",
        "- Although following syntactic rules can *sometimes* seem annoying, remember that there's always a reason the language was designed in a certain way.  \n",
        "\n",
        "Syntax goes hand-in-hand with the **operators** we use in a language, and the rules about how those operators are used."
      ]
    },
    {
      "cell_type": "markdown",
      "id": "7530abbf",
      "metadata": {
        "id": "7530abbf"
      },
      "source": [
        "## Operators\n",
        "\n",
        "An **operator** is used to perform an *operation* on variables and values.\n",
        "\n",
        "We've already seen an example of an operator: `=` is used to **assign** a variable name to some value."
      ]
    },
    {
      "cell_type": "code",
      "execution_count": null,
      "id": "e2687073",
      "metadata": {
        "id": "e2687073"
      },
      "outputs": [],
      "source": [
        "### Assignment operator\n",
        "x = 10"
      ]
    },
    {
      "cell_type": "markdown",
      "id": "aae082dc",
      "metadata": {
        "id": "aae082dc"
      },
      "source": [
        "But operators can also include basic *arithmetic operations*, like addition (`+`) and subtraction (`-`)."
      ]
    },
    {
      "cell_type": "code",
      "execution_count": null,
      "id": "329bba79",
      "metadata": {
        "id": "329bba79"
      },
      "outputs": [],
      "source": [
        "### Addition operator\n",
        "1 + 1"
      ]
    },
    {
      "cell_type": "markdown",
      "id": "ca9e0448",
      "metadata": {
        "id": "ca9e0448"
      },
      "source": [
        "### Arithmetic in Python\n",
        "\n",
        "Python code can be used to perform arithmetic calculations with **numeric** values, including:\n",
        "\n",
        "| Operation | Symbol |\n",
        "| --------- | ------ |\n",
        "| Addition | `+`|\n",
        "| Subtraction | `-`|\n",
        "| Division | `/`|\n",
        "| Multiplication | `*`|\n",
        "| Exponentiation | `**`|\n",
        "| Modulus | `%`|\n",
        "| Floor division | `//`|"
      ]
    },
    {
      "cell_type": "code",
      "execution_count": null,
      "id": "63af4866",
      "metadata": {
        "id": "63af4866"
      },
      "outputs": [],
      "source": [
        "### Exponentiation\n",
        "2 ** 3"
      ]
    },
    {
      "cell_type": "code",
      "execution_count": null,
      "id": "f4805a7b",
      "metadata": {
        "id": "f4805a7b"
      },
      "outputs": [],
      "source": [
        "### Division\n",
        "2 / 4"
      ]
    },
    {
      "cell_type": "code",
      "execution_count": null,
      "id": "a379f066",
      "metadata": {
        "id": "a379f066"
      },
      "outputs": [],
      "source": [
        "### Modulus\n",
        "8 % 3"
      ]
    },
    {
      "cell_type": "markdown",
      "id": "50162a4d",
      "metadata": {
        "id": "50162a4d"
      },
      "source": [
        "#### Order of operations\n",
        "\n",
        "If a single line of code has *multiple operations*, Python executes these operations according to [PEMDAS](https://www.cuemath.com/numbers/pemdas/).\n",
        "\n",
        "- E.g., `()` first, then `**`, then `*` or `/`, then `+` or `-`.\n",
        "- Word of caution: it's easy to misplace parentheses (`()`)––many experienced programmers can introduce **bugs** this way."
      ]
    },
    {
      "cell_type": "markdown",
      "id": "0c7c54c3",
      "metadata": {
        "id": "0c7c54c3"
      },
      "source": [
        "### Check-in\n",
        "\n",
        "What value would `x` take on in the following code?\n",
        "\n",
        "```python\n",
        "x = (1 + 2) / (18 - 3)\n",
        "```"
      ]
    },
    {
      "cell_type": "code",
      "execution_count": null,
      "id": "e4017894",
      "metadata": {
        "id": "e4017894"
      },
      "outputs": [],
      "source": [
        "### Your code here"
      ]
    },
    {
      "cell_type": "markdown",
      "id": "cafa055b",
      "metadata": {
        "id": "cafa055b"
      },
      "source": [
        "### Check-in\n",
        "\n",
        "What about this code?\n",
        "\n",
        "```python\n",
        "x = 1 + 2 / 18 - 3\n",
        "```"
      ]
    },
    {
      "cell_type": "code",
      "execution_count": null,
      "id": "b7ebca05",
      "metadata": {
        "id": "b7ebca05"
      },
      "outputs": [],
      "source": [
        "### Your code here"
      ]
    },
    {
      "cell_type": "markdown",
      "id": "53d69d8c",
      "metadata": {
        "id": "53d69d8c"
      },
      "source": [
        "#### \"Adding\" strings\n",
        "\n",
        "The `+` operator can also be applied to **strings**. In this case, it **concatenates** the strings (i.e., puts them together).\n",
        "\n",
        "We'll revisit this soon when we discuss strings in more depth."
      ]
    },
    {
      "cell_type": "code",
      "execution_count": null,
      "id": "2cf2264a",
      "metadata": {
        "id": "2cf2264a"
      },
      "outputs": [],
      "source": [
        "### Addition \"concatenates\" strings\n",
        "\"a\" + \"pple\""
      ]
    },
    {
      "cell_type": "markdown",
      "id": "832c4736",
      "metadata": {
        "id": "832c4736"
      },
      "source": [
        "### Assignment in Python\n",
        "\n",
        "We've already learned about the basic **assignment operator**: the symbol `=` can be used to assign a value to a variable name.\n",
        "\n",
        "There are also a few \"syntactic tricks\" with this operator, such as:\n",
        "\n",
        "| Operation | Symbol | Example |\n",
        "| --------- | ------ | ------- |\n",
        "| Add to variable | `+=` | `x += 1`|\n",
        "| Subtract from | `-=` | `x -= 1`|\n",
        "\n",
        "\n",
        "These are equivalent to just writing out something like: `x = x + 1` or `x = x - 1`."
      ]
    },
    {
      "cell_type": "code",
      "execution_count": null,
      "id": "38245517",
      "metadata": {
        "id": "38245517"
      },
      "outputs": [],
      "source": [
        "x = 10\n",
        "x += 1\n",
        "x"
      ]
    },
    {
      "cell_type": "markdown",
      "id": "9e3dfe03",
      "metadata": {
        "id": "9e3dfe03"
      },
      "source": [
        "### Logical operators\n",
        "\n",
        "Logical operators can be used to produce a `boolean` value. They are particularly useful when writing **conditional statements**, which we'll discuss soon.\n",
        "\n",
        "| Symbol | Description | Example |\n",
        "| --------- | ------ | ------- |\n",
        "| `and` | Returns `True` if both parts are true | `True and True`|\n",
        "| `or` | Returns `True` if at least one part is true | `True or False`|\n",
        "| `not` | Returns the reverse | `not True`|\n"
      ]
    },
    {
      "cell_type": "code",
      "execution_count": null,
      "id": "6f7e6d69",
      "metadata": {
        "id": "6f7e6d69"
      },
      "outputs": [],
      "source": [
        "True and False"
      ]
    },
    {
      "cell_type": "code",
      "execution_count": null,
      "id": "d7dcfd4c",
      "metadata": {
        "id": "d7dcfd4c"
      },
      "outputs": [],
      "source": [
        "True or False"
      ]
    },
    {
      "cell_type": "code",
      "execution_count": null,
      "id": "4061c7ae",
      "metadata": {
        "id": "4061c7ae"
      },
      "outputs": [],
      "source": [
        "True and (not False)"
      ]
    },
    {
      "cell_type": "markdown",
      "id": "6ec5fa41",
      "metadata": {
        "id": "6ec5fa41"
      },
      "source": [
        "### Comparison operators\n",
        "\n",
        "A **comparison operator** *compares* one value to another. This includes whether those values are the *same*, but also whether one is larger or smaller than the other, and so on.\n",
        "\n",
        "| Symbol | Description |\n",
        "| --------- | ------ |\n",
        "| `==` | Equal |\n",
        "| `!=` | Not Equal |\n",
        "| `>` | Greater Than |\n",
        "| `<` | Less Than |\n",
        "| `>=` | Greater Than or Equal To|\n",
        "| `<=` | Less Than or Equal To|"
      ]
    },
    {
      "cell_type": "code",
      "execution_count": null,
      "id": "0566bcd2",
      "metadata": {
        "id": "0566bcd2"
      },
      "outputs": [],
      "source": [
        "## Equal operator\n",
        "2 == (1 + 1)"
      ]
    },
    {
      "cell_type": "code",
      "execution_count": null,
      "id": "54028210",
      "metadata": {
        "id": "54028210"
      },
      "outputs": [],
      "source": [
        "## Greater than\n",
        "2 > (1 + 1)"
      ]
    },
    {
      "cell_type": "markdown",
      "id": "c3834dfd",
      "metadata": {
        "id": "c3834dfd"
      },
      "source": [
        "#### Comparing strings\n",
        "\n",
        "Note that these operators can also be applied to *strings*.\n",
        "\n",
        "- The equality operator (`==`) tests whether the two strings have the same characters.  \n",
        "- The greater/less than operators (`>` and `<`) test the relative *ordinal value* of the strings, i.e., if they were to be sorted."
      ]
    },
    {
      "cell_type": "code",
      "execution_count": null,
      "id": "36ad3dd4",
      "metadata": {
        "id": "36ad3dd4"
      },
      "outputs": [],
      "source": [
        "## Are these strings equal?\n",
        "\"test\" == \"test\""
      ]
    },
    {
      "cell_type": "code",
      "execution_count": null,
      "id": "f216659f",
      "metadata": {
        "id": "f216659f"
      },
      "outputs": [],
      "source": [
        "## Is b \"larger\" than a?\n",
        "\"b\" > \"a\""
      ]
    },
    {
      "cell_type": "code",
      "execution_count": null,
      "id": "247c8ca0",
      "metadata": {
        "id": "247c8ca0"
      },
      "outputs": [],
      "source": [
        "## Is ab \"larger\" than aa?\n",
        "\"ab\" > \"aa\""
      ]
    },
    {
      "cell_type": "markdown",
      "id": "410b9f7f",
      "metadata": {
        "id": "410b9f7f"
      },
      "source": [
        "### Check-in\n",
        "\n",
        "Would the following code return `True` or `False`?\n",
        "\n",
        "```python\n",
        "\"bat\" > \"cat\"\n",
        "```"
      ]
    },
    {
      "cell_type": "code",
      "execution_count": null,
      "id": "0d4848c1",
      "metadata": {
        "id": "0d4848c1"
      },
      "outputs": [],
      "source": [
        "### Your code here"
      ]
    },
    {
      "cell_type": "markdown",
      "id": "be457d72",
      "metadata": {
        "id": "be457d72"
      },
      "source": [
        "### Identity operators\n",
        "\n",
        "An **identity operator** determines whether two objects are `identical` or not. There are just two symbols:\n",
        "\n",
        "| Symbol | Description |\n",
        "| --------- | ------ |\n",
        "| `is` | Identical |\n",
        "| `is not` | Not Identical |\n",
        "\n",
        "\n",
        "Note that **identity** is [not exactly the same as **equality**](https://realpython.com/python-is-identity-vs-equality/#comparing-equality-with-the-python-and-operators).\n",
        "\n",
        "- A test for **equality** (`==`) checks whether two *values* are the same.  \n",
        "- A test for **identity** (`is`) checks whether two operands point to the same *object* in memory.  \n",
        "  - You don't need to know all the details here––the most important thing is that they're subtly different."
      ]
    },
    {
      "cell_type": "code",
      "execution_count": null,
      "id": "ee3a68a8",
      "metadata": {
        "id": "ee3a68a8"
      },
      "outputs": [],
      "source": [
        "# Comparing equality vs. identity\n",
        "a = \"This is a fairly long string\"\n",
        "b = \"This is a fairly long string\"\n",
        "print(a == b)\n",
        "print(a is b)"
      ]
    },
    {
      "cell_type": "markdown",
      "id": "7b053f13",
      "metadata": {
        "id": "7b053f13"
      },
      "source": [
        "#### Identity vs. Equality: The details\n",
        "\n",
        "- Two variables can have the same **value** (they're *equal*), but reference different objects in **memory** (i.e., they're not *identical*).\n",
        "\n",
        "- We can access the `id` of an object using `id(x)`."
      ]
    },
    {
      "cell_type": "code",
      "execution_count": null,
      "id": "aac27435",
      "metadata": {
        "id": "aac27435"
      },
      "outputs": [],
      "source": [
        "x = 1000\n",
        "y = 1000\n",
        "print(id(x))\n",
        "print(id(y))\n",
        "print(x == y)\n",
        "print(x is y)"
      ]
    },
    {
      "cell_type": "markdown",
      "id": "93e97856",
      "metadata": {
        "id": "93e97856"
      },
      "source": [
        "Behind the scenes, Python creates *objects* in memory whenever we declare a new variable referencing a value, with *some exceptions*:\n",
        "\n",
        "- Simple/short strings.  \n",
        "- Integers between `-5` and `256`\n"
      ]
    },
    {
      "cell_type": "code",
      "execution_count": null,
      "id": "83053885",
      "metadata": {
        "collapsed": true,
        "id": "83053885"
      },
      "outputs": [],
      "source": [
        "x = 1\n",
        "y = 1\n",
        "print(x is y)\n",
        "print(x == y)"
      ]
    },
    {
      "cell_type": "markdown",
      "id": "689b160c",
      "metadata": {
        "id": "689b160c"
      },
      "source": [
        "### Membership operators\n",
        "\n",
        "A **membership operator** determines whether a given value or variable is present within a larger sequence.\n",
        "\n",
        "\n",
        "| Symbol | Description |\n",
        "| --------- | ------ |\n",
        "| `in` | Is the variable/value in the sequence? |\n",
        "| `not` | Is the variable/value *not* in the sequence? |\n",
        "\n",
        "\n",
        "This will become clearer when we discuss different kinds of **sequences**, such as *strings* (`str`) and *lists* (`list`). For now, it's enough to compare/contrast the examples below."
      ]
    },
    {
      "cell_type": "code",
      "execution_count": null,
      "id": "8cc6a47a",
      "metadata": {
        "id": "8cc6a47a"
      },
      "outputs": [],
      "source": [
        "print(\"a\" in \"apple\")\n",
        "print(\"b\" in \"apple\")"
      ]
    },
    {
      "cell_type": "code",
      "execution_count": null,
      "id": "2e6cf962",
      "metadata": {
        "scrolled": true,
        "id": "2e6cf962"
      },
      "outputs": [],
      "source": [
        "print(\"a\" not in \"apple\")\n",
        "print(\"b\" not in \"apple\")"
      ]
    },
    {
      "cell_type": "markdown",
      "id": "aff1b316",
      "metadata": {
        "id": "aff1b316"
      },
      "source": [
        "## Indentation in Python\n",
        "\n",
        "In Python, **indentation** matters for how different blocks of code get evaluated.\n",
        "\n",
        "- Everything within an *indented block* gets interpreted as happening \"within\" that block (e.g., within a loop).\n",
        "- This will make more sense when we discuss **conditional logic** (`if/else`) and **loops** (e.g., a `for` loop).  \n",
        "- If you indent where it's not necessary or expected, you'll get a `IndentationError`."
      ]
    },
    {
      "cell_type": "code",
      "execution_count": null,
      "id": "9e052183",
      "metadata": {
        "id": "9e052183"
      },
      "outputs": [],
      "source": [
        "## We shouldn't have indented here\n",
        "    print(\"Don't indent here\")"
      ]
    },
    {
      "cell_type": "code",
      "execution_count": null,
      "id": "d527d8dc",
      "metadata": {
        "id": "d527d8dc"
      },
      "outputs": [],
      "source": [
        "## It's appropriate to indent after a conditional statement\n",
        "x = 2 - 1\n",
        "if x == 1:\n",
        "    print(\"This is an indented block\")"
      ]
    },
    {
      "cell_type": "markdown",
      "id": "75f745d9",
      "metadata": {
        "id": "75f745d9"
      },
      "source": [
        "## Conclusion\n",
        "\n",
        "As always, there's more we could discuss. However, hopefully this was a useful introduction to the notion of an **operator** in Python, along with some of the syntactic rules around how to use these operators in code."
      ]
    }
  ],
  "metadata": {
    "celltoolbar": "Slideshow",
    "kernelspec": {
      "display_name": "Python 3 (ipykernel)",
      "language": "python",
      "name": "python3"
    },
    "language_info": {
      "codemirror_mode": {
        "name": "ipython",
        "version": 3
      },
      "file_extension": ".py",
      "mimetype": "text/x-python",
      "name": "python",
      "nbconvert_exporter": "python",
      "pygments_lexer": "ipython3",
      "version": "3.11.9"
    },
    "colab": {
      "provenance": []
    }
  },
  "nbformat": 4,
  "nbformat_minor": 5
}