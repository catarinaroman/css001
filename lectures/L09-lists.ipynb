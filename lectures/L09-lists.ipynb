{
 "cells": [
  {
   "cell_type": "markdown",
   "id": "ff8da194",
   "metadata": {
    "slideshow": {
     "slide_type": "slide"
    }
   },
   "source": [
    "# Lists in Python"
   ]
  },
  {
   "cell_type": "markdown",
   "id": "dd3abbc9",
   "metadata": {
    "slideshow": {
     "slide_type": "slide"
    }
   },
   "source": [
    "## Goals of this lecture\n",
    "\n",
    "The primary goal of today's lecture is to give you a basic familiarity with **lists** in Python. This includes:\n",
    "\n",
    "- A high-level understanding of what a `list` is and how it fits into the broader ecosystem of Python **collections**. \n",
    "- How do you create a `list`?\n",
    "- Indexing into `list`s.  \n",
    "- Looping through `list`s.  \n",
    "- List comprehension.\n",
    "- Checking if an item is `in` a `list`. "
   ]
  },
  {
   "cell_type": "markdown",
   "id": "216c495d",
   "metadata": {
    "slideshow": {
     "slide_type": "slide"
    }
   },
   "source": [
    "## What is a `list`?\n",
    "\n",
    "> A **list** is a mutable collection of ordered items, which can have various `type`s. \n",
    "\n",
    "Let's break this down:\n",
    "\n",
    "- **Mutable**: a `list` object can be changed.\n",
    "- **Collection**: i.e., a `list` can contain multiple items (unlike, say, an `int`).  \n",
    "- **Ordered**: these items have a particular *order*, i.e., it's a **sequence**. (We'll later discuss objects like `dict`ionaries that don't have order.)\n",
    "- **Various `type`s**: i.e., a `list` can have objects belonging to different `type`s, such as an `int`, a `str`, and even another `list`!"
   ]
  },
  {
   "cell_type": "markdown",
   "id": "fbff7a45",
   "metadata": {
    "slideshow": {
     "slide_type": "slide"
    }
   },
   "source": [
    "## How do you create a `list`?\n",
    "\n",
    "A `list` is created with square brackets, i.e., `[]`. "
   ]
  },
  {
   "cell_type": "code",
   "execution_count": null,
   "id": "7f7db521",
   "metadata": {
    "slideshow": {
     "slide_type": "-"
    }
   },
   "outputs": [],
   "source": [
    "### This is an empty list\n",
    "my_first_list = []\n",
    "print(my_first_list)\n",
    "print(type(my_first_list))"
   ]
  },
  {
   "cell_type": "markdown",
   "id": "37279430",
   "metadata": {
    "slideshow": {
     "slide_type": "-"
    }
   },
   "source": [
    "You can put objects *into* the list by separating them with commas."
   ]
  },
  {
   "cell_type": "code",
   "execution_count": null,
   "id": "527984b4",
   "metadata": {
    "slideshow": {
     "slide_type": "-"
    }
   },
   "outputs": [],
   "source": [
    "## This list has an int and several strings.\n",
    "assorted_objects = [\"apple\", 1, \"class\", \"library\"]\n",
    "assorted_objects"
   ]
  },
  {
   "cell_type": "markdown",
   "id": "e4f61d4e",
   "metadata": {
    "slideshow": {
     "slide_type": "slide"
    }
   },
   "source": [
    "### Check-in\n",
    "\n",
    "Use the square brackets operator to create a `list` called `sample_list`. Put exactly three items in this list (they can be of any `type` you prefer)."
   ]
  },
  {
   "cell_type": "code",
   "execution_count": null,
   "id": "c2330c5e",
   "metadata": {
    "slideshow": {
     "slide_type": "-"
    }
   },
   "outputs": [],
   "source": [
    "### Your code here\n",
    "sample_list = [1, 2, 3]\n",
    "type(sample_list)"
   ]
  },
  {
   "cell_type": "markdown",
   "id": "9eecabdf",
   "metadata": {
    "slideshow": {
     "slide_type": "slide"
    }
   },
   "source": [
    "### Check-in\n",
    "\n",
    "Now, double-check your work by using `len` to calculate the length of `sample_list`. Does it return the value `3`? If not, there are either too few or too many items."
   ]
  },
  {
   "cell_type": "code",
   "execution_count": null,
   "id": "eb02ec17",
   "metadata": {
    "slideshow": {
     "slide_type": "-"
    }
   },
   "outputs": [],
   "source": [
    "### Your code here\n",
    "len([1, 2, 3])"
   ]
  },
  {
   "cell_type": "markdown",
   "id": "682bebda",
   "metadata": {
    "slideshow": {
     "slide_type": "slide"
    }
   },
   "source": [
    "## Indexing into a list\n",
    "\n",
    "> **Indexing** means returning the item at a particular position in a `list`.\n",
    "\n",
    "You can *index* into a list using square brackets."
   ]
  },
  {
   "cell_type": "code",
   "execution_count": null,
   "id": "5db6c940",
   "metadata": {
    "slideshow": {
     "slide_type": "-"
    }
   },
   "outputs": [],
   "source": [
    "assorted_objects[0]"
   ]
  },
  {
   "cell_type": "code",
   "execution_count": null,
   "id": "f05e86b7",
   "metadata": {
    "slideshow": {
     "slide_type": "-"
    }
   },
   "outputs": [],
   "source": [
    "assorted_objects[1]"
   ]
  },
  {
   "cell_type": "code",
   "execution_count": null,
   "id": "3dd7d0b9",
   "metadata": {
    "slideshow": {
     "slide_type": "-"
    }
   },
   "outputs": [],
   "source": [
    "assorted_objects[2]"
   ]
  },
  {
   "cell_type": "markdown",
   "id": "8daa618f",
   "metadata": {
    "slideshow": {
     "slide_type": "slide"
    }
   },
   "source": [
    "### Check-in\n",
    "\n",
    "Try indexing into `assorted_objects` with the number `4`. What happens? Why?"
   ]
  },
  {
   "cell_type": "code",
   "execution_count": null,
   "id": "eb0ddaa4",
   "metadata": {
    "slideshow": {
     "slide_type": "-"
    }
   },
   "outputs": [],
   "source": [
    "### Your code here\n",
    "assorted_objects[4]"
   ]
  },
  {
   "cell_type": "markdown",
   "id": "1ee8bd39",
   "metadata": {
    "slideshow": {
     "slide_type": "slide"
    }
   },
   "source": [
    "### Counting backward\n",
    "\n",
    "The index `[-1]` retrieves the *final item* on a list. Thus, you can use this syntax to \"count backwards\" from the end of a list."
   ]
  },
  {
   "cell_type": "code",
   "execution_count": null,
   "id": "0c9da241",
   "metadata": {
    "slideshow": {
     "slide_type": "-"
    }
   },
   "outputs": [],
   "source": [
    "print(assorted_objects)"
   ]
  },
  {
   "cell_type": "code",
   "execution_count": null,
   "id": "8a722946",
   "metadata": {
    "slideshow": {
     "slide_type": "-"
    }
   },
   "outputs": [],
   "source": [
    "### Last object\n",
    "assorted_objects[-1]"
   ]
  },
  {
   "cell_type": "code",
   "execution_count": null,
   "id": "8602f50b",
   "metadata": {
    "slideshow": {
     "slide_type": "-"
    }
   },
   "outputs": [],
   "source": [
    "### Second-to-last object\n",
    "assorted_objects[-2]"
   ]
  },
  {
   "cell_type": "markdown",
   "id": "c1ff7153",
   "metadata": {
    "slideshow": {
     "slide_type": "slide"
    }
   },
   "source": [
    "### Slicing\n",
    "\n",
    "Just as we can **slice** into a `str` (i.e., retrieve *multiple* characters between a span of indices), we can do the same for a `list`."
   ]
  },
  {
   "cell_type": "code",
   "execution_count": null,
   "id": "3e95c790",
   "metadata": {
    "slideshow": {
     "slide_type": "-"
    }
   },
   "outputs": [],
   "source": [
    "my_long_list = [\"this\", \"is\", \"a\", \"set\", \"of\", \"words\", \"I\", \"made\", \"up\"]\n",
    "my_long_list[0:4]"
   ]
  },
  {
   "cell_type": "code",
   "execution_count": null,
   "id": "79d03a15",
   "metadata": {
    "slideshow": {
     "slide_type": "-"
    }
   },
   "outputs": [],
   "source": [
    "my_long_list[:6]"
   ]
  },
  {
   "cell_type": "markdown",
   "id": "dc50dfe3",
   "metadata": {
    "slideshow": {
     "slide_type": "slide"
    }
   },
   "source": [
    "### Interim summary: indexing\n",
    "\n",
    "- Python indexing starts at zero.  \n",
    "- The final element of a sequence can be retrieved with `[-1]`. \n",
    "- Multiple adjacent elements can be retrieved with `[start:stop]`. \n",
    "   - This will include the element at `start`, but not the one at `stop`.  "
   ]
  },
  {
   "cell_type": "markdown",
   "id": "8e7f81cb",
   "metadata": {
    "slideshow": {
     "slide_type": "slide"
    }
   },
   "source": [
    "### Check-in\n",
    "\n",
    "Consider `my_long_list` below. How would you return the sub-list `[\"words\", \"I\", \"made\", \"up\"]`?"
   ]
  },
  {
   "cell_type": "code",
   "execution_count": null,
   "id": "172e7f29",
   "metadata": {
    "slideshow": {
     "slide_type": "-"
    }
   },
   "outputs": [],
   "source": [
    "my_long_list = [\"this\", \"is\", \"a\", \"set\", \"of\", \"words\", \"I\", \"made\", \"up\"]\n",
    "### Your code here"
   ]
  },
  {
   "cell_type": "markdown",
   "id": "cc990041",
   "metadata": {
    "slideshow": {
     "slide_type": "slide"
    }
   },
   "source": [
    "## Looping through a `list`\n",
    "\n",
    "We've already discussed [loops](06-loops), so this will serve as a brief review/reminder.\n",
    "\n",
    "There are two main ways of looping through a `list`:\n",
    "\n",
    "- `for` loop.\n",
    "- `while` loop."
   ]
  },
  {
   "cell_type": "markdown",
   "id": "8d2b944f",
   "metadata": {
    "slideshow": {
     "slide_type": "slide"
    }
   },
   "source": [
    "### `for` loops\n",
    "\n",
    "A `for` loop will iterate through each item in a sequence, such as **list**."
   ]
  },
  {
   "cell_type": "code",
   "execution_count": null,
   "id": "dfff821b",
   "metadata": {
    "slideshow": {
     "slide_type": "-"
    }
   },
   "outputs": [],
   "source": [
    "core_courses = ['CSS 1', 'CSS 2', 'CSS 100']\n",
    "for course in core_courses:\n",
    "    print(course)"
   ]
  },
  {
   "cell_type": "markdown",
   "id": "e4532d1e",
   "metadata": {
    "slideshow": {
     "slide_type": "slide"
    }
   },
   "source": [
    "### `while` loops\n",
    "\n",
    "A `while` loop will continue running as long as some condition is met.\n",
    "\n",
    "A common formulation is to use an **index** to loop through the elements of a `list`, which runs into the index reaches the `len` of the `list`. "
   ]
  },
  {
   "cell_type": "code",
   "execution_count": null,
   "id": "cf88e9ce",
   "metadata": {
    "slideshow": {
     "slide_type": "-"
    }
   },
   "outputs": [],
   "source": [
    "i = 0\n",
    "while i < len(core_courses):\n",
    "    print(core_courses[i])\n",
    "    i += 1 ## Make sure to increase index!"
   ]
  },
  {
   "cell_type": "markdown",
   "id": "3872b4fd",
   "metadata": {
    "slideshow": {
     "slide_type": "slide"
    }
   },
   "source": [
    "### `enumerate`\n",
    "\n",
    "The `enumerate` function allows you to iterate through a list, as in a `for` loop, but it *also* tracks an index."
   ]
  },
  {
   "cell_type": "code",
   "execution_count": null,
   "id": "111ea6a0",
   "metadata": {
    "slideshow": {
     "slide_type": "-"
    }
   },
   "outputs": [],
   "source": [
    "for index, item in enumerate(core_courses):\n",
    "    print(index)\n",
    "    print(item)"
   ]
  },
  {
   "cell_type": "markdown",
   "id": "c245f839",
   "metadata": {
    "slideshow": {
     "slide_type": "slide"
    }
   },
   "source": [
    "## List \"comprehensions\"\n",
    "\n",
    "> In Python, a [list comprehension](https://www.w3schools.com/python/python_lists_comprehension.asp) is a shorter, more efficient way to loop through a `list` (and possibly apply some function to each element of a list). \n",
    "\n",
    "Examples:\n",
    "\n",
    "- Multiply each number in a list by 2.  \n",
    "- Make each `str` in a list lowercase.\n",
    "\n",
    "A list comprehension will **return** another `list`, which has been modified in some way."
   ]
  },
  {
   "cell_type": "code",
   "execution_count": null,
   "id": "b84224b7",
   "metadata": {
    "slideshow": {
     "slide_type": "-"
    }
   },
   "outputs": [],
   "source": [
    "### The simplest list comprehension simply returns every element in a list\n",
    "original_list = [\"This\", \"is\", \"CSS\", \"1\"]\n",
    "new_list = [[elem, ind] for ind, elem in enumerate(original_list)]\n",
    "new_list"
   ]
  },
  {
   "cell_type": "markdown",
   "id": "abf81fd2",
   "metadata": {
    "slideshow": {
     "slide_type": "slide"
    }
   },
   "source": [
    "### Check-in (conceptual)\n",
    "\n",
    "What do you notice about the **syntax** of a list comprehension? Does it remind you of any other technique we've discussed?"
   ]
  },
  {
   "cell_type": "markdown",
   "id": "68af9b2d",
   "metadata": {
    "slideshow": {
     "slide_type": "slide"
    }
   },
   "source": [
    "### Modifying elements of a `list`\n",
    "\n",
    "You can also use a list comprehension to **modify** elements of a `list`.\n",
    "\n",
    "In the code below, the list comprehension returns the elements of the original `list`, but converts them all to `upper`case."
   ]
  },
  {
   "cell_type": "code",
   "execution_count": null,
   "id": "16e473a9",
   "metadata": {
    "slideshow": {
     "slide_type": "-"
    }
   },
   "outputs": [],
   "source": [
    "### Make everything upper-case.\n",
    "original_list = [\"This\", \"is\", \"CSS\", \"1\"]\n",
    "new_list = [ i.upper() for i in original_list]\n",
    "new_list"
   ]
  },
  {
   "cell_type": "markdown",
   "id": "63fff147",
   "metadata": {
    "slideshow": {
     "slide_type": "slide"
    }
   },
   "source": [
    "### Using conditions\n",
    "\n",
    "You can also **conditionally modify** (or **conditionally return**) elements of a list using a `list` comprehension."
   ]
  },
  {
   "cell_type": "code",
   "execution_count": null,
   "id": "1ca9806f",
   "metadata": {
    "slideshow": {
     "slide_type": "-"
    }
   },
   "outputs": [],
   "source": [
    "### List of foods\n",
    "foods = [\"pasta\", \"pizza\", \"sushi\", \"curry\", \"rice\"]\n",
    "### Return only foods with letter \"i\"\n",
    "foods_with_i = [f for f in foods if \"i\" in f]\n",
    "foods_with_i"
   ]
  },
  {
   "cell_type": "markdown",
   "id": "85e52bb0",
   "metadata": {
    "slideshow": {
     "slide_type": "slide"
    }
   },
   "source": [
    "### Check-in\n",
    "\n",
    "The `list` below contains both `int` and `str` objects. Use a list comprehension to multiply each `int` by 2, and ignore the `str` objects."
   ]
  },
  {
   "cell_type": "code",
   "execution_count": null,
   "id": "00aeddb5",
   "metadata": {
    "slideshow": {
     "slide_type": "-"
    }
   },
   "outputs": [],
   "source": [
    "### List of objects\n",
    "assorted_list = [1, 5, \"bottle\", 10, \"bag\"]\n",
    "### Your code here\n"
   ]
  },
  {
   "cell_type": "markdown",
   "id": "ded9bc10",
   "metadata": {
    "slideshow": {
     "slide_type": "slide"
    }
   },
   "source": [
    "### Check-in\n",
    "\n",
    "The `list` below contains both `int` and `str` objects. Now, use a list comprehension to turn each `str` into an upper-case string, and ignore the `int` objects."
   ]
  },
  {
   "cell_type": "code",
   "execution_count": null,
   "id": "97dfd084",
   "metadata": {
    "slideshow": {
     "slide_type": "-"
    }
   },
   "outputs": [],
   "source": [
    "### List of objects\n",
    "assorted_list = [1, 5, \"bottle\", 10, \"bag\"]\n",
    "### Your code here\n"
   ]
  },
  {
   "cell_type": "markdown",
   "id": "07ccc68a",
   "metadata": {
    "slideshow": {
     "slide_type": "slide"
    }
   },
   "source": [
    "## Checking membership\n",
    "\n",
    "> The `in` operator can be used to check if a given item occurs **in** a particular `list`. It returns a boolean answer (i.e., `True` or `False`).\n",
    "\n",
    "Note that this can be used with **strings** as well."
   ]
  },
  {
   "cell_type": "code",
   "execution_count": null,
   "id": "8376cc1a",
   "metadata": {
    "slideshow": {
     "slide_type": "-"
    }
   },
   "outputs": [],
   "source": [
    "\"CSS 1\" in core_courses"
   ]
  },
  {
   "cell_type": "code",
   "execution_count": null,
   "id": "4d66b190",
   "metadata": {
    "slideshow": {
     "slide_type": "-"
    }
   },
   "outputs": [],
   "source": [
    "\"COGS 14B\" in core_courses"
   ]
  },
  {
   "cell_type": "markdown",
   "id": "afee927b",
   "metadata": {
    "slideshow": {
     "slide_type": "slide"
    }
   },
   "source": [
    "### Check-in\n",
    "\n",
    "Consider `my_long_list` below. How would you check whether the `str` `\"words\"` appears in that `list`?"
   ]
  },
  {
   "cell_type": "code",
   "execution_count": null,
   "id": "4fd87732",
   "metadata": {
    "slideshow": {
     "slide_type": "-"
    }
   },
   "outputs": [],
   "source": [
    "my_long_list = [\"this\", \"is\", \"a\", \"set\", \"of\", \"words\", \"I\", \"made\", \"up\"]\n",
    "### Your code here\n"
   ]
  },
  {
   "cell_type": "markdown",
   "id": "b8fa35e2",
   "metadata": {
    "slideshow": {
     "slide_type": "slide"
    }
   },
   "source": [
    "### Conclusion\n",
    "\n",
    "This was a *brief* introduction to `list` objects. The lab this week will contain many more examples and practice problems; additionally, next week we'll talk about some more complex operations, such as combining lists, `append`ing items to a `list`, and more."
   ]
  }
 ],
 "metadata": {
  "kernelspec": {
   "display_name": "Python 3 (ipykernel)",
   "language": "python",
   "name": "python3"
  },
  "language_info": {
   "codemirror_mode": {
    "name": "ipython",
    "version": 3
   },
   "file_extension": ".py",
   "mimetype": "text/x-python",
   "name": "python",
   "nbconvert_exporter": "python",
   "pygments_lexer": "ipython3",
   "version": "3.11.9"
  }
 },
 "nbformat": 4,
 "nbformat_minor": 5
}
