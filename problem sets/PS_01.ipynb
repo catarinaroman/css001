{
  "cells": [
    {
      "cell_type": "markdown",
      "id": "480690ff",
      "metadata": {
        "nbgrader": {
          "grade": false,
          "grade_id": "cell-dddf8e7d67d1a79f",
          "locked": true,
          "schema_version": 3,
          "solution": false,
          "task": false
        },
        "id": "480690ff"
      },
      "source": [
        "# Problem Set 1\n",
        "\n",
        "This is your first **problem set** for CSS 1.\n",
        "\n",
        "It will cover the topics discussed in the first two weeks of class, including:\n",
        "\n",
        "- Working with different **variable types**.  \n",
        "- Basic **arithmetic operations**.  \n",
        "- Basic **control flow**, such as *conditional statements* and *loops*.  \n",
        "\n",
        "## Things to keep in mind\n",
        "\n",
        "### Independent work\n",
        "\n",
        "Note that unlike labs, problem sets should be **completed independently**.\n",
        "\n",
        "### Note on hidden tests\n",
        "\n",
        "Your problem set will be graded (mostly) with an **auto-grader**. Visible tests can be seen directly in the Jupyter notebook, and can be identified by their `assert` statements.\n",
        "\n",
        "Additionally, some of the questions in this problem set will have **hidden tests**. This means that in addition to the `assert` statements you see in the code, there are *hidden* tests. The point of these is to check whether your code **generalizes** to other cases. The problem set will notify you when/where there is a hidden test, even if you can't see it.\n"
      ]
    },
    {
      "cell_type": "markdown",
      "id": "74fcfef2",
      "metadata": {
        "nbgrader": {
          "grade": false,
          "grade_id": "cell-8714ce0e28774393",
          "locked": true,
          "schema_version": 3,
          "solution": false,
          "task": false
        },
        "id": "74fcfef2"
      },
      "source": [
        "### Q1. Creating variables (6 pts. total)\n",
        "\n",
        "In this first part of the problem set, your goal is to **create variables** of different types, with different values.\n",
        "\n",
        "In the cell below, create the following variables (make sure to use the right *name* for each variable):\n",
        "\n",
        "- A variable called `my_int` that stores the number `42`.  \n",
        "- A variable called `my_int2` that stores the number `45`.\n",
        "- A variable called `my_str` that stores the string `\"Problem Set 1\"`.  \n",
        "- A variable called `my_bool` that stores the boolean value `True`.  \n",
        "- A variable called `my_other_bool` that stores the (boolean) result of checking whether `my_int > my_int2`.  \n",
        "- A variable called `my_nothing` that stores `None`.  "
      ]
    },
    {
      "cell_type": "code",
      "execution_count": null,
      "id": "32c52387",
      "metadata": {
        "nbgrader": {
          "grade": false,
          "grade_id": "cell-08726727263fcaf7",
          "locked": false,
          "schema_version": 3,
          "solution": true,
          "task": false
        },
        "id": "32c52387"
      },
      "outputs": [],
      "source": [
        "### BEGIN SOLUTION\n",
        "\n",
        "### END SOLUTION"
      ]
    },
    {
      "cell_type": "code",
      "execution_count": null,
      "id": "6305e419",
      "metadata": {
        "nbgrader": {
          "grade": true,
          "grade_id": "cell-ed1938bc2aee1f5f",
          "locked": true,
          "points": 1,
          "schema_version": 3,
          "solution": false,
          "task": false
        },
        "id": "6305e419"
      },
      "outputs": [],
      "source": [
        "assert my_int\n",
        "assert my_int == 42"
      ]
    },
    {
      "cell_type": "code",
      "execution_count": null,
      "id": "e789bd80",
      "metadata": {
        "nbgrader": {
          "grade": true,
          "grade_id": "cell-14aa06a3b415fdcf",
          "locked": true,
          "points": 1,
          "schema_version": 3,
          "solution": false,
          "task": false
        },
        "id": "e789bd80"
      },
      "outputs": [],
      "source": [
        "assert my_int2\n",
        "assert my_int2 == 45"
      ]
    },
    {
      "cell_type": "code",
      "execution_count": null,
      "id": "c32c4a40",
      "metadata": {
        "nbgrader": {
          "grade": true,
          "grade_id": "cell-7a230f5f37215a31",
          "locked": true,
          "points": 1,
          "schema_version": 3,
          "solution": false,
          "task": false
        },
        "id": "c32c4a40"
      },
      "outputs": [],
      "source": [
        "assert my_str\n",
        "assert my_str == \"Problem Set 1\""
      ]
    },
    {
      "cell_type": "code",
      "execution_count": null,
      "id": "68fe94ea",
      "metadata": {
        "nbgrader": {
          "grade": true,
          "grade_id": "cell-77efd2e19f11577f",
          "locked": true,
          "points": 1,
          "schema_version": 3,
          "solution": false,
          "task": false
        },
        "id": "68fe94ea"
      },
      "outputs": [],
      "source": [
        "assert my_bool\n",
        "assert my_bool == True"
      ]
    },
    {
      "cell_type": "code",
      "execution_count": null,
      "id": "885e81e9",
      "metadata": {
        "nbgrader": {
          "grade": true,
          "grade_id": "cell-dd02685519a716aa",
          "locked": true,
          "points": 1,
          "schema_version": 3,
          "solution": false,
          "task": false
        },
        "id": "885e81e9"
      },
      "outputs": [],
      "source": [
        "assert my_other_bool == False"
      ]
    },
    {
      "cell_type": "code",
      "execution_count": null,
      "id": "8ac3dec8",
      "metadata": {
        "nbgrader": {
          "grade": true,
          "grade_id": "cell-d32b6f85c3350844",
          "locked": true,
          "points": 1,
          "schema_version": 3,
          "solution": false,
          "task": false
        },
        "id": "8ac3dec8"
      },
      "outputs": [],
      "source": [
        "assert my_nothing is None"
      ]
    },
    {
      "cell_type": "markdown",
      "id": "a9f1283a",
      "metadata": {
        "nbgrader": {
          "grade": false,
          "grade_id": "cell-3fae5a0a0c9004fd",
          "locked": true,
          "schema_version": 3,
          "solution": false,
          "task": false
        },
        "id": "a9f1283a"
      },
      "source": [
        "### Q2. Using variables for arithmetic (6 pts. total)\n",
        "\n",
        "In this section, you'll create some *more* variables, but these will involve some more complicated **arithmetic operations**.\n",
        "\n",
        "Specifically, cell below defines a set of starting variables; you'll need to use these variables in arithmetic operations to create new variables.\n",
        "\n",
        "Using `a`, `b`, `c`, and `d`, create the following variables:\n",
        "\n",
        "- Set `ans1` to the result of adding `a`, `b`, `c`, and `d` together.  \n",
        "- Set `ans2` to the result of multiplying `a`, `b`, `c`, and `d` together.\n",
        "- Set `ans3` to the result of raising `a` to the power of `d`. (Recall that `**` can be used for exponentiation.)\n",
        "- Set `ans4` to the result of dividing `ans3` by `ans1`.\n",
        "- Set `ans5` to the result of checking whether `ans1 > ans4`.\n",
        "- Set `ans6` to the result of checking whether `ans2` is **even**. Remember that you can use the `%` operator to check whether a given number is even (i.e., whether the *remainder* of that number divided by `2` is `0`.)"
      ]
    },
    {
      "cell_type": "code",
      "execution_count": 1,
      "id": "5a477e98",
      "metadata": {
        "nbgrader": {
          "grade": false,
          "grade_id": "cell-2c27be7c9c95d6c4",
          "locked": true,
          "schema_version": 3,
          "solution": false,
          "task": false
        },
        "id": "5a477e98"
      },
      "outputs": [],
      "source": [
        "a = 2\n",
        "b = 3\n",
        "c = 5\n",
        "d = 10"
      ]
    },
    {
      "cell_type": "code",
      "execution_count": 2,
      "id": "64386211",
      "metadata": {
        "nbgrader": {
          "grade": false,
          "grade_id": "cell-7d6f3f84f290a14e",
          "locked": false,
          "schema_version": 3,
          "solution": true,
          "task": false
        },
        "id": "64386211"
      },
      "outputs": [],
      "source": [
        "### BEGIN SOLUTION\n",
        "\n",
        "### END SOLUTION"
      ]
    },
    {
      "cell_type": "code",
      "execution_count": 3,
      "id": "b62f3ad1",
      "metadata": {
        "nbgrader": {
          "grade": true,
          "grade_id": "cell-6b397e928cfb38a9",
          "locked": true,
          "points": 1,
          "schema_version": 3,
          "solution": false,
          "task": false
        },
        "id": "b62f3ad1"
      },
      "outputs": [],
      "source": [
        "## Test for ans1\n",
        "assert ans1\n",
        "assert ans1 == 20"
      ]
    },
    {
      "cell_type": "code",
      "execution_count": 4,
      "id": "a3580a22",
      "metadata": {
        "nbgrader": {
          "grade": true,
          "grade_id": "cell-800ebc4207e3bbe0",
          "locked": true,
          "points": 1,
          "schema_version": 3,
          "solution": false,
          "task": false
        },
        "id": "a3580a22"
      },
      "outputs": [],
      "source": [
        "## Test for ans2\n",
        "## This cell contains a hidden test!\n",
        "assert ans2\n",
        "assert type(ans2) is int\n",
        "### BEGIN HIDDEN TEST\n",
        "assert ans2 == 300\n",
        "### END HIDDEN TEST"
      ]
    },
    {
      "cell_type": "code",
      "execution_count": 5,
      "id": "e6234d4f",
      "metadata": {
        "nbgrader": {
          "grade": true,
          "grade_id": "cell-e8de209a5eb620cf",
          "locked": true,
          "points": 1,
          "schema_version": 3,
          "solution": false,
          "task": false
        },
        "id": "e6234d4f"
      },
      "outputs": [],
      "source": [
        "## Test for ans3\n",
        "## This cell contains a hidden test!\n",
        "assert type(ans3) is int\n",
        "### BEGIN HIDDEN TEST\n",
        "assert ans3 == 1024\n",
        "### END HIDDEN TEST"
      ]
    },
    {
      "cell_type": "code",
      "execution_count": 6,
      "id": "526ac8a0",
      "metadata": {
        "nbgrader": {
          "grade": true,
          "grade_id": "cell-1b50c5d48d467e38",
          "locked": true,
          "points": 1,
          "schema_version": 3,
          "solution": false,
          "task": false
        },
        "id": "526ac8a0"
      },
      "outputs": [],
      "source": [
        "## Test for ans4\n",
        "## This cell contains a hidden test!\n",
        "assert ans4\n",
        "### BEGIN HIDDEN TEST\n",
        "assert ans4 == 51.2\n",
        "### END HIDDEN TEST"
      ]
    },
    {
      "cell_type": "code",
      "execution_count": 7,
      "id": "4cdbcb20",
      "metadata": {
        "nbgrader": {
          "grade": true,
          "grade_id": "cell-852c227ff7112c5e",
          "locked": true,
          "points": 1,
          "schema_version": 3,
          "solution": false,
          "task": false
        },
        "id": "4cdbcb20"
      },
      "outputs": [],
      "source": [
        "## Test for ans5\n",
        "## This cell contains a hidden test!\n",
        "assert type(ans5) is bool\n",
        "### BEGIN HIDDEN TEST\n",
        "assert ans5 == False\n",
        "### END HIDDEN TEST"
      ]
    },
    {
      "cell_type": "code",
      "execution_count": 8,
      "id": "9c01a45f",
      "metadata": {
        "nbgrader": {
          "grade": true,
          "grade_id": "cell-b0baf2d185af4dc6",
          "locked": true,
          "points": 1,
          "schema_version": 3,
          "solution": false,
          "task": false
        },
        "id": "9c01a45f"
      },
      "outputs": [],
      "source": [
        "## Test for ans6\n",
        "## This cell contains a hidden test!\n",
        "assert type(ans6) is bool\n",
        "### BEGIN HIDDEN TEST\n",
        "assert ans6 == True\n",
        "### END HIDDEN TEST"
      ]
    },
    {
      "cell_type": "markdown",
      "id": "3a9222f1",
      "metadata": {
        "nbgrader": {
          "grade": false,
          "grade_id": "cell-e2550545de47645f",
          "locked": true,
          "schema_version": 3,
          "solution": false,
          "task": false
        },
        "id": "3a9222f1"
      },
      "source": [
        "### Q3. Conditional statements and loops (3 pts.)\n",
        "\n",
        "The problem has three parts:\n",
        "\n",
        "- Write a `for` loop that iterates through `range(1, 11)` and counts the number of even numbers. Store this value in `num_evens`.  \n",
        "- Additionally, calculate the **sum** of all those even numbers. Store this value in `sum_evens`.  \n",
        "- Finally, divide `sum_evens` by `num_evens`. Store this value in `mean_evens`. (This is the **average**.)"
      ]
    },
    {
      "cell_type": "code",
      "execution_count": 9,
      "id": "ad74fab7",
      "metadata": {
        "nbgrader": {
          "grade": false,
          "grade_id": "cell-4fb71f595b85cc7c",
          "locked": true,
          "schema_version": 3,
          "solution": false,
          "task": false
        },
        "id": "ad74fab7"
      },
      "outputs": [],
      "source": [
        "num_evens = 0 ### Override this number in the solution below\n",
        "sum_evens = 0 ### Override this number in the solution below\n",
        "mean_evens = 1 ### Override this number in the solution below"
      ]
    },
    {
      "cell_type": "code",
      "execution_count": 10,
      "id": "0853ba1b",
      "metadata": {
        "nbgrader": {
          "grade": false,
          "grade_id": "cell-97664b842d673cd8",
          "locked": false,
          "schema_version": 3,
          "solution": true,
          "task": false
        },
        "id": "0853ba1b"
      },
      "outputs": [],
      "source": [
        "### BEGIN SOLUTION\n",
        "\n",
        "### END SOLUTION"
      ]
    },
    {
      "cell_type": "code",
      "execution_count": 11,
      "id": "c0da32d6",
      "metadata": {
        "nbgrader": {
          "grade": true,
          "grade_id": "cell-4819cbcacc84411d",
          "locked": true,
          "points": 1,
          "schema_version": 3,
          "solution": false,
          "task": false
        },
        "id": "c0da32d6"
      },
      "outputs": [],
      "source": [
        "assert num_evens\n",
        "assert num_evens == 5"
      ]
    },
    {
      "cell_type": "code",
      "execution_count": 12,
      "id": "47ede396",
      "metadata": {
        "nbgrader": {
          "grade": true,
          "grade_id": "cell-f110dafa41d19633",
          "locked": true,
          "points": 1,
          "schema_version": 3,
          "solution": false,
          "task": false
        },
        "id": "47ede396"
      },
      "outputs": [],
      "source": [
        "### This cell has a hidden test\n",
        "assert sum_evens\n",
        "### BEGIN HIDDEN TESTS\n",
        "assert sum_evens == 30\n",
        "### END HIDDEN TESTS"
      ]
    },
    {
      "cell_type": "code",
      "execution_count": 13,
      "id": "7a156add",
      "metadata": {
        "nbgrader": {
          "grade": true,
          "grade_id": "cell-c56d21d89b4d70aa",
          "locked": true,
          "points": 1,
          "schema_version": 3,
          "solution": false,
          "task": false
        },
        "id": "7a156add"
      },
      "outputs": [],
      "source": [
        "### This cell has a hidden test\n",
        "assert mean_evens\n",
        "### BEGIN HIDDEN TESTS\n",
        "assert mean_evens == 6\n",
        "### END HIDDEN TESTS"
      ]
    },
    {
      "cell_type": "markdown",
      "id": "be28454e",
      "metadata": {
        "nbgrader": {
          "grade": false,
          "grade_id": "cell-8615eb1ad2516dd4",
          "locked": true,
          "schema_version": 3,
          "solution": false,
          "task": false
        },
        "id": "be28454e"
      },
      "source": [
        "### Submit!\n",
        "\n",
        "Once you've completed all the cells above (saving regularly):\n",
        "\n",
        "- Click \"Validate\". This will run a check to determine whether you've passed all visible tests.\n",
        "- Once you've validated the assignment, you should now have an option to \"Submit\" the assignment (next to where the assignment is stored in your directory). Click this.\n",
        "- This will now show up under your \"Submitted Assignments\" section.\n",
        "\n",
        "If you have any trouble accessing or submitting the assignment, please check in with your TA!"
      ]
    }
  ],
  "metadata": {
    "celltoolbar": "Create Assignment",
    "kernelspec": {
      "display_name": "Python 3 (clean)",
      "language": "python",
      "name": "python3_clean"
    },
    "language_info": {
      "codemirror_mode": {
        "name": "ipython",
        "version": 3
      },
      "file_extension": ".py",
      "mimetype": "text/x-python",
      "name": "python",
      "nbconvert_exporter": "python",
      "pygments_lexer": "ipython3",
      "version": "3.9.5"
    },
    "colab": {
      "provenance": []
    }
  },
  "nbformat": 4,
  "nbformat_minor": 5
}
